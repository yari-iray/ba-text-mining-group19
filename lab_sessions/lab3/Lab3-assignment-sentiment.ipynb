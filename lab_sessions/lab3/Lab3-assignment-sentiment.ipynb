{
 "cells": [
  {
   "cell_type": "markdown",
   "metadata": {},
   "source": [
    "# Lab3 - Assignment Sentiment"
   ]
  },
  {
   "cell_type": "markdown",
   "metadata": {},
   "source": [
    "Copyright: Vrije Universiteit Amsterdam, Faculty of Humanities, CLTL"
   ]
  },
  {
   "cell_type": "markdown",
   "metadata": {},
   "source": [
    "This notebook describes the LAB-2 assignment of the Text Mining course. It is about sentiment analysis.\n",
    "\n",
    "The aims of the assignment are:\n",
    "* Learn how to run a rule-based sentiment analysis module (VADER)\n",
    "* Learn how to run a machine learning sentiment analysis module (Scikit-Learn/ Naive Bayes)\n",
    "* Learn how to run scikit-learn metrics for the quantitative evaluation\n",
    "* Learn how to perform and interpret a quantitative evaluation of the outcomes of the tools (in terms of Precision, Recall, and F<sub>1</sub>)\n",
    "* Learn how to evaluate the results qualitatively (by examining the data) \n",
    "* Get insight into differences between the two applied methods\n",
    "* Get insight into the effects of using linguistic preprocessing\n",
    "* Be able to describe differences between the two methods in terms of their results\n",
    "* Get insight into issues when applying these methods across different  domains\n",
    "\n",
    "In this assignment, you are going to create your own gold standard set from 50 tweets. You will the VADER and scikit-learn classifiers to these tweets and evaluate the results by using evaluation metrics and inspecting the data.\n",
    "\n",
    "We recommend you go through the notebooks in the following order:\n",
    "* **Read the assignment (see below)**\n",
    "* **Lab3.2-Sentiment-analysis-with-VADER.ipynb**\n",
    "* **Lab3.3-Sentiment-analysis.with-scikit-learn.ipynb**\n",
    "* **Answer the questions of the assignment (see below) using the provided notebooks and submit**\n",
    "\n",
    "In this assignment you are asked to perform both quantitative evaluations and error analyses:\n",
    "* a quantitative evaluation concerns the scores (Precision, Recall, and F<sub>1</sub>) provided by scikit's classification_report. It includes the scores per category, as well as micro and macro averages. Discuss whether the scores are balanced or not between the different categories (positive, negative, neutral) and between precision and recall. Discuss the shortcomings (if any) of the classifier based on these scores\n",
    "* an error analysis regarding the misclassifications of the classifier. It involves going through the texts and trying to understand what has gone wrong. It servers to get insight in what could be done to improve the performance of the classifier. Do you observe patterns in misclassifications?  Discuss why these errors are made and propose ways to solve them."
   ]
  },
  {
   "cell_type": "markdown",
   "metadata": {},
   "source": [
    "## Credits\n",
    "The notebooks in this block have been originally created by [Marten Postma](https://martenpostma.github.io) and [Isa Maks](https://research.vu.nl/en/persons/e-maks). Adaptations were made by [Filip Ilievski](http://ilievski.nl)."
   ]
  },
  {
   "cell_type": "markdown",
   "metadata": {},
   "source": [
    "## Part I: VADER assignments\n",
    "\n",
    "\n",
    "### Preparation (nothing to submit):\n",
    "To be able to answer the VADER questions you need to know how the tool works. \n",
    "* Read more about the VADER tool in [this blog](http://t-redactyl.io/blog/2017/04/using-vader-to-handle-sentiment-analysis-with-social-media-text.html).  \n",
    "* VADER provides 4 scores (positive, negative, neutral, compound). Be sure to understand what they mean and how they are calculated.\n",
    "* VADER uses rules to handle linguistic phenomena such as negation and intensification. Be sure to understand which rules are used, how they work, and why they are important.\n",
    "* VADER makes use of a sentiment lexicon. Have a look at the lexicon. Be sure to understand which information can be found there (lemma?, wordform?, part-of-speech?, polarity value?, word meaning?) What do all scores mean? https://github.com/cjhutto/vaderSentiment/blob/master/vaderSentiment/vader_lexicon.txt) \n",
    "\n",
    "\n",
    "### [3.5 points] Question1:\n",
    "\n",
    "Regard the following sentences and their output as given by VADER. Regard sentences 1 to 7, and explain the outcome **for each sentence**. Take into account both the rules applied by VADER and the lexicon that is used. You will find that some of the results are reasonable, but others are not. Explain what is going wrong or not when correct and incorrect results are produced. \n",
    "\n",
    "```\n",
    "INPUT SENTENCE 1 I love apples\n",
    "VADER OUTPUT {'neg': 0.0, 'neu': 0.192, 'pos': 0.808, 'compound': 0.6369}\n",
    "\n",
    "INPUT SENTENCE 2 I don't love apples\n",
    "VADER OUTPUT {'neg': 0.627, 'neu': 0.373, 'pos': 0.0, 'compound': -0.5216}\n",
    "\n",
    "INPUT SENTENCE 3 I love apples :-)\n",
    "VADER OUTPUT {'neg': 0.0, 'neu': 0.133, 'pos': 0.867, 'compound': 0.7579}\n",
    "\n",
    "INPUT SENTENCE 4 These houses are ruins\n",
    "VADER OUTPUT {'neg': 0.492, 'neu': 0.508, 'pos': 0.0, 'compound': -0.4404}\n",
    "\n",
    "INPUT SENTENCE 5 These houses are certainly not considered ruins\n",
    "VADER OUTPUT {'neg': 0.0, 'neu': 0.51, 'pos': 0.49, 'compound': 0.5867}\n",
    "\n",
    "INPUT SENTENCE 6 He lies in the chair in the garden\n",
    "VADER OUTPUT {'neg': 0.286, 'neu': 0.714, 'pos': 0.0, 'compound': -0.4215}\n",
    "\n",
    "INPUT SENTENCE 7 This house is like any house\n",
    "VADER OUTPUT {'neg': 0.0, 'neu': 0.667, 'pos': 0.333, 'compound': 0.3612}\n",
    "```\n",
    "\n",
    "1. Vader correctly identifies the sentence as being highly positive, due to the positive word 'love' being used, and thus gives it a high positive score and a positive compound score.\n",
    "\n",
    "2. Vader sees the negation of 'love' accurately, and thus correctly gives it a negative compound score due to 'don't love' being used in the sentence.\n",
    "\n",
    "3. Vader seems to be able to identify the smiley in the sentence, and also sees the word 'love' being used. Thus the sentence correctly gets a positive compound score, which is even more positive than the first sentence due to the smiley.\n",
    "\n",
    "4. Vader sees the word 'ruins' and correctly identifies this as a negative word, with a high negative score. The negative compound score also reflects the negative sentiment of the sentence accurately.\n",
    "\n",
    "5. Vader accurately assesses the sentiment of the sentence, because the negative word 'ruins' is negated within this sentence with 'certainly not', leading to a positive compound score. The score is also not too high because this sentence is only negating a negative assessment of houses.\n",
    "\n",
    "6. Vader is slightly off with this sentence, probably due to the word 'lies' being used in the sentence, which has multiple meanings, but the negative meaning is not used within this sentence. Vader correctly sees a lot of neutrality in this sentence, but also sees some negativity in the sentence, resulting in the compound score being off. The compound score reflects a pretty negative sentence, whereas this sentence is more of a neutral/lightly positive sentence.\n",
    "\n",
    "7. Vader is also slightly off in the last sentence. The sentence can be both a neutral or negative assessment of a house, because the house doesn't feel distinct from other houses. Vader correctly detects some neutrality in the sentence, due to 'any house' being a mostly neutral description. However, vader also saw the word 'likes', which probably increased the positivity score of the sentence, leading to a somewhat positive compound score. The positive and negative score should be interchanged, and the compound score should be closer to 0 or slightly negative to accurately reflect the slightly negative tone of this sentence."
   ]
  },
  {
   "cell_type": "markdown",
   "metadata": {},
   "source": [
    "### [Points: 2.5] Exercise 2: Collecting 50 tweets for evaluation\n",
    "Collect 50 tweets. Try to find tweets that are interesting for sentiment analysis, e.g., very positive, neutral, and negative tweets. These could be your own tweets (typed in) or collected from the Twitter stream.\n",
    "\n",
    "We will store the tweets in the file **my_tweets.json** (use a text editor to edit).\n",
    "For each tweet, you should insert:\n",
    "* sentiment analysis label: negative | neutral | positive (this you determine yourself, this is not done by a computer)\n",
    "* the text of the tweet\n",
    "* the Tweet-URL\n",
    "\n",
    "from:\n",
    "```\n",
    "    \"1\": {\n",
    "        \"sentiment_label\": \"\",\n",
    "        \"text_of_tweet\": \"\",\n",
    "        \"tweet_url\": \"\",\n",
    "```\n",
    "to:\n",
    "```\n",
    "\"1\": {\n",
    "        \"sentiment_label\": \"positive\",\n",
    "        \"text_of_tweet\": \"All across America people chose to get involved, get engaged and stand up. Each of us can make a difference, and all of us ought to try. So go keep changing the world in 2018.\",\n",
    "        \"tweet_url\" : \"https://twitter.com/BarackObama/status/946775615893655552\",\n",
    "    },\n",
    "```"
   ]
  },
  {
   "cell_type": "markdown",
   "metadata": {},
   "source": [
    "You can load your tweets with human annotation in the following way."
   ]
  },
  {
   "cell_type": "code",
   "execution_count": 33,
   "metadata": {},
   "outputs": [],
   "source": [
    "import json"
   ]
  },
  {
   "cell_type": "code",
   "execution_count": 34,
   "metadata": {},
   "outputs": [],
   "source": [
    "my_tweets = json.load(open('my_tweets.json'))"
   ]
  },
  {
   "cell_type": "code",
   "execution_count": 40,
   "metadata": {},
   "outputs": [
    {
     "name": "stdout",
     "output_type": "stream",
     "text": [
      "1 {'sentiment_label': 'negative', 'text_of_tweet': 'Iâ€™m actually like so angry about Iceland I canâ€™t stop thinking about it. ', 'tweet_url': 'https://twitter.com/MaxxyRainbow/status/1764168102571360681'}\n"
     ]
    }
   ],
   "source": [
    "for id_, tweet_info in my_tweets.items():\n",
    "    print(id_, tweet_info)\n",
    "    break"
   ]
  },
  {
   "cell_type": "markdown",
   "metadata": {},
   "source": [
    "### [5 points] Question 3:\n",
    "\n",
    "Run VADER on your own tweets (see function **run_vader** from notebook **Lab2-Sentiment-analysis-using-VADER.ipynb**). You can use the code snippet below this explanation as a starting point. \n",
    "* [2.5 points] a. Perform a quantitative evaluation. Explain the different scores, and explain which scores are most relevant and why.\n",
    "* [2.5 points] b. Perform an error analysis: select 10 positive, 10 negative and 10 neutral tweets that are not correctly classified and try to understand why. Refer to the VADER-rules and the VADER-lexicon. Of course, if there are less than 10 errors for a category, you only have to check those. For example, if there are only 5 errors for positive tweets, you just describe those."
   ]
  },
  {
   "cell_type": "code",
   "execution_count": 36,
   "metadata": {},
   "outputs": [],
   "source": [
    "from nltk.sentiment.vader import SentimentIntensityAnalyzer\n",
    "import spacy\n",
    "\n",
    "vader_model = SentimentIntensityAnalyzer()\n",
    "nlp = spacy.load(\"en_core_web_sm\") # 'en_core_web_sm'"
   ]
  },
  {
   "cell_type": "code",
   "execution_count": 37,
   "metadata": {},
   "outputs": [],
   "source": [
    "def vader_output_to_label(vader_output):\n",
    "    \"\"\"\n",
    "    map vader output e.g.,\n",
    "    {'neg': 0.0, 'neu': 0.0, 'pos': 1.0, 'compound': 0.4215}\n",
    "    to one of the following values:\n",
    "    a) positive float -> 'positive'\n",
    "    b) 0.0 -> 'neutral'\n",
    "    c) negative float -> 'negative'\n",
    "    \n",
    "    :param dict vader_output: output dict from vader\n",
    "    \n",
    "    :rtype: str\n",
    "    :return: 'negative' | 'neutral' | 'positive'\n",
    "    \"\"\"\n",
    "    compound = vader_output['compound']\n",
    "    \n",
    "    if compound < 0:\n",
    "        return 'negative'\n",
    "    elif compound == 0.0:\n",
    "        return 'neutral'\n",
    "    elif compound > 0.0:\n",
    "        return 'positive'\n",
    "    \n",
    "assert vader_output_to_label( {'neg': 0.0, 'neu': 0.0, 'pos': 1.0, 'compound': 0.0}) == 'neutral'\n",
    "assert vader_output_to_label( {'neg': 0.0, 'neu': 0.0, 'pos': 1.0, 'compound': 0.01}) == 'positive'\n",
    "assert vader_output_to_label( {'neg': 0.0, 'neu': 0.0, 'pos': 1.0, 'compound': -0.01}) == 'negative'"
   ]
  },
  {
   "cell_type": "code",
   "execution_count": 38,
   "metadata": {},
   "outputs": [],
   "source": [
    "def run_vader(textual_unit, \n",
    "              lemmatize=False, \n",
    "              parts_of_speech_to_consider=None,):\n",
    "    \"\"\"\n",
    "    Run VADER on a sentence from spacy\n",
    "    \n",
    "    :param str textual unit: a textual unit, e.g., sentence, sentences (one string)\n",
    "    (by looping over doc.sents)\n",
    "    :param bool lemmatize: If True, provide lemmas to VADER instead of words\n",
    "    :param set parts_of_speech_to_consider:\n",
    "    -None or empty set: all parts of speech are provided\n",
    "    -non-empty set: only these parts of speech are considered.\n",
    "    :param int verbose: if set to 1, information is printed\n",
    "    about input and output\n",
    "    \n",
    "    :rtype: dict\n",
    "    :return: vader output dict\n",
    "    \"\"\"\n",
    "    doc = nlp(textual_unit)\n",
    "    input_to_vader = []\n",
    "\n",
    "    for sentence in doc.sents:\n",
    "        for token in sentence:\n",
    "            to_add = token.text\n",
    "\n",
    "            if lemmatize:\n",
    "                to_add = token.lemma_ if token.lemma_ != '-PRON-' else token.text\n",
    "\n",
    "            if not parts_of_speech_to_consider:\n",
    "                input_to_vader.append(to_add)\n",
    "                continue\n",
    "            if token.pos_ in parts_of_speech_to_consider:\n",
    "                    input_to_vader.append(to_add)\n",
    "\n",
    "    return vader_model.polarity_scores(' '.join(input_to_vader))"
   ]
  },
  {
   "cell_type": "code",
   "execution_count": 39,
   "metadata": {},
   "outputs": [
    {
     "name": "stdout",
     "output_type": "stream",
     "text": [
      "LABEL: negative TWEET TEXT: Iâ€™m actually like so angry about Iceland I canâ€™t stop thinking about it. , VADER OUTPUT: {'neg': 0.359, 'neu': 0.502, 'pos': 0.139, 'compound': -0.6048}\n",
      "LABEL: negative TWEET TEXT: Why? It's literally the biggest shit that you can't even call music... Really... Just because the word Europe is in it? Thats why your brianwashed soul like it..., VADER OUTPUT: {'neg': 0.106, 'neu': 0.828, 'pos': 0.067, 'compound': -0.3527}\n",
      "LABEL: negative TWEET TEXT: If Iâ€™m at your door at 3am, because my child sent me panic texts to pick her up, and you tell me come back in the morning, I will snatch your legs from under you and crack your skull on the edge of your front stoop before you say another word., VADER OUTPUT: {'neg': 0.066, 'neu': 0.934, 'pos': 0.0, 'compound': -0.5106}\n",
      "LABEL: neutral TWEET TEXT: Did you know itâ€™s against the law to interfere with nature when filming for documentary purposes?, VADER OUTPUT: {'neg': 0.0, 'neu': 1.0, 'pos': 0.0, 'compound': 0.0}\n",
      "LABEL: positive TWEET TEXT: Fun moment in the pitlane before green light yesterday. As I passed the Haas garage one of the guys pulled a spoon out of his pocket and gave me a wink. A methodical week of testing, top 10 quali and really promising race pace, Haas have got every reason to be optimistic for 2024, VADER OUTPUT: {'neg': 0.0, 'neu': 0.791, 'pos': 0.209, 'compound': 0.8622}\n",
      "LABEL: negative TWEET TEXT: ffs i did not want to wake up to this israel news maybe ive been too naive but i really did trust the EBU would actually do something, VADER OUTPUT: {'neg': 0.159, 'neu': 0.689, 'pos': 0.152, 'compound': 0.4227}\n",
      "LABEL: positive TWEET TEXT: She was crying because she thought her career was over after her label did her wrong & dropped her. Now she is crying after winning SIX AWARDS at the Brits tonight, including Album, Artist & Song of the Year, FULLY INDEPENDENT. This is the best success story. @RAYE congrats., VADER OUTPUT: {'neg': 0.179, 'neu': 0.611, 'pos': 0.21, 'compound': 0.4588}\n",
      "LABEL: negative TWEET TEXT: heartbreaking: this youtube documentary thatâ€™s right up your street is presented by someone whose voice pisses you off within the first 10 seconds, VADER OUTPUT: {'neg': 0.109, 'neu': 0.891, 'pos': 0.0, 'compound': -0.4019}\n",
      "LABEL: positive TWEET TEXT: Wearing an outfit and looking exactly the way you imagined is the best feeling ever., VADER OUTPUT: {'neg': 0.0, 'neu': 0.747, 'pos': 0.253, 'compound': 0.5267}\n",
      "LABEL: negative TWEET TEXT: This kid should have his license revoked immediately. What an idiot., VADER OUTPUT: {'neg': 0.248, 'neu': 0.752, 'pos': 0.0, 'compound': -0.5106}\n",
      "LABEL: neutral TWEET TEXT: Designed to withstand the harsh environment of Mars, these squishy robots could transform how first responders determine their approach to a disaster scene here on Earth. Learn how  @NASASpinoff tech could help disaster response: https://go.nasa.gov/3IpybN2, VADER OUTPUT: {'neg': 0.253, 'neu': 0.685, 'pos': 0.062, 'compound': -0.8555}\n",
      "LABEL: positive TWEET TEXT: This is a baby Platypus - never seen one before but thought you would like to see it, VADER OUTPUT: {'neg': 0.0, 'neu': 0.822, 'pos': 0.178, 'compound': 0.5023}\n",
      "LABEL: positive TWEET TEXT: This is such a cool job to have ..., VADER OUTPUT: {'neg': 0.0, 'neu': 0.753, 'pos': 0.247, 'compound': 0.3182}\n",
      "LABEL: positive TWEET TEXT: Incredible pan across Marsâ€™ surface from NASAâ€™s Perseverance rover ðŸ˜², VADER OUTPUT: {'neg': 0.0, 'neu': 1.0, 'pos': 0.0, 'compound': 0.0}\n",
      "LABEL: negative TWEET TEXT: No, Liz. It wasn't corporate greed that made my Taco Bell order $20 It was the trillions you scumbags printed in 2020. No more lying., VADER OUTPUT: {'neg': 0.346, 'neu': 0.591, 'pos': 0.064, 'compound': -0.876}\n",
      "LABEL: negative TWEET TEXT: This is what Mali, Africa looks like today. This is what the future of Western countries looks like when you keep importing the third world. You become the third world., VADER OUTPUT: {'neg': 0.0, 'neu': 0.848, 'pos': 0.152, 'compound': 0.6124}\n",
      "LABEL: negative TWEET TEXT: I cannot really begin to put into words how saddened I feel to see that it requires a police ring to protect the monument to our greatest ever war leader. I don't know whose values these people hold, but they're not shared by very many millions of us., VADER OUTPUT: {'neg': 0.159, 'neu': 0.76, 'pos': 0.081, 'compound': -0.5023}\n",
      "LABEL: negative TWEET TEXT: UK just threw a guy into jail for 2 years for stickers Stickers, VADER OUTPUT: {'neg': 0.0, 'neu': 1.0, 'pos': 0.0, 'compound': 0.0}\n",
      "LABEL: positive TWEET TEXT: rewatching the first dune and i forgot about thufirâ€™s cunty little parasol. i love this diva, VADER OUTPUT: {'neg': 0.107, 'neu': 0.673, 'pos': 0.22, 'compound': 0.4627}\n",
      "LABEL: positive TWEET TEXT: You're going to do big things. Be brave., VADER OUTPUT: {'neg': 0.0, 'neu': 0.702, 'pos': 0.298, 'compound': 0.5267}\n",
      "LABEL: positive TWEET TEXT: Happy Womenâ€™s Month to all of the ladies! praying for good energy, new money, positive vibes, & new blessings., VADER OUTPUT: {'neg': 0.0, 'neu': 0.399, 'pos': 0.601, 'compound': 0.9523}\n",
      "LABEL: positive TWEET TEXT: The 75,000,000 great American Patriots who voted for me, AMERICA FIRST, and MAKE AMERICA GREAT AGAIN, will have a GIANT VOICE long into the future. They will not be disrespected or treated unfairly in any way, shape or form!!!, VADER OUTPUT: {'neg': 0.0, 'neu': 0.69, 'pos': 0.31, 'compound': 0.9417}\n",
      "LABEL: positive TWEET TEXT: Watch this opal reveal, also a timely reminder that real beauty is on the inside ðŸ“¹ Broken River Mining, VADER OUTPUT: {'neg': 0.135, 'neu': 0.699, 'pos': 0.166, 'compound': 0.1779}\n",
      "LABEL: positive TWEET TEXT: The elders in my neighborhood are always showing me love when they see me doing content but this pure energy took the cake ðŸ¥°ðŸ¥°, VADER OUTPUT: {'neg': 0.0, 'neu': 0.8, 'pos': 0.2, 'compound': 0.6428}\n",
      "LABEL: neutral TWEET TEXT: power is power, VADER OUTPUT: {'neg': 0.0, 'neu': 1.0, 'pos': 0.0, 'compound': 0.0}\n",
      "LABEL: negative TWEET TEXT: Something how Dr. Fauci is revered by the LameStream Media as such a great professional, having done, they say, such an incredible job, yet he works for me and the Trump Administration, and I am in no way given any credit for my work. Gee, could this just be more Fake News?, VADER OUTPUT: {'neg': 0.098, 'neu': 0.785, 'pos': 0.117, 'compound': 0.2748}\n",
      "LABEL: negative TWEET TEXT: The biggest lie the legacy media makes is narrative: choosing what to write about and what not to write about, VADER OUTPUT: {'neg': 0.0, 'neu': 1.0, 'pos': 0.0, 'compound': 0.0}\n",
      "LABEL: negative TWEET TEXT: The legacy media lies as easy as breathing. Reuters is the worst right now., VADER OUTPUT: {'neg': 0.19, 'neu': 0.652, 'pos': 0.158, 'compound': -0.1531}\n",
      "LABEL: positive TWEET TEXT: Baby gator in a moment of bliss, VADER OUTPUT: {'neg': 0.0, 'neu': 0.575, 'pos': 0.425, 'compound': 0.5719}\n",
      "LABEL: positive TWEET TEXT: Sounds like @boringcompany is about ready to fire up the Prufrock 3 at Giga Texas! Hope to catch it in action this week!, VADER OUTPUT: {'neg': 0.083, 'neu': 0.623, 'pos': 0.294, 'compound': 0.7256}\n",
      "LABEL: positive TWEET TEXT: Don't miss life!, VADER OUTPUT: {'neg': 0.0, 'neu': 0.633, 'pos': 0.367, 'compound': 0.1867}\n",
      "LABEL: neutral TWEET TEXT: Vein viewers use near-infrared light, which is absorbed by veins and reflected by surrounding tissue, to map veins up to 15mm deep and project the results onto the skin, VADER OUTPUT: {'neg': 0.0, 'neu': 1.0, 'pos': 0.0, 'compound': 0.0}\n",
      "LABEL: positive TWEET TEXT: Red Pandas are the cutest creatures on earth, VADER OUTPUT: {'neg': 0.231, 'neu': 0.769, 'pos': 0.0, 'compound': -0.2732}\n",
      "LABEL: positive TWEET TEXT: I just get the feeling this is going to be a reallllly reallllly good summer, VADER OUTPUT: {'neg': 0.0, 'neu': 0.714, 'pos': 0.286, 'compound': 0.5267}\n",
      "LABEL: positive TWEET TEXT: 35 years ago madonna released â€˜like a prayerâ€™ and the vatican banned it, iconic., VADER OUTPUT: {'neg': 0.231, 'neu': 0.769, 'pos': 0.0, 'compound': -0.5574}\n",
      "LABEL: positive TWEET TEXT: my brother got my name tatted with a lil heart next to it ðŸ¥²ðŸ¥², VADER OUTPUT: {'neg': 0.0, 'neu': 1.0, 'pos': 0.0, 'compound': 0.0}\n",
      "LABEL: negative TWEET TEXT: If a father acted like this, he would be arrested and lose custody. No one would defend him., VADER OUTPUT: {'neg': 0.32, 'neu': 0.57, 'pos': 0.11, 'compound': -0.5859}\n",
      "LABEL: negative TWEET TEXT: Electric charger powered by diesel generator. We are the stupidest species on the planet., VADER OUTPUT: {'neg': 0.207, 'neu': 0.793, 'pos': 0.0, 'compound': -0.5267}\n",
      "LABEL: neutral TWEET TEXT: Testing the safety & security on an inflatable car storage by WhistlinDiesel. I mean, could they have thrown anything else?, VADER OUTPUT: {'neg': 0.0, 'neu': 0.755, 'pos': 0.245, 'compound': 0.6369}\n",
      "LABEL: neutral TWEET TEXT: The US threw a dude in prison over a meme  We live in strange times, VADER OUTPUT: {'neg': 0.317, 'neu': 0.683, 'pos': 0.0, 'compound': -0.6249}\n",
      "LABEL: positive TWEET TEXT: She's a great athlete!  Made her day!, VADER OUTPUT: {'neg': 0.0, 'neu': 0.562, 'pos': 0.438, 'compound': 0.6892}\n",
      "LABEL: positive TWEET TEXT: The camera aboard the Deep Space Climate Observatory (DSCOVR) satellite captured this unique and iconic view of the Moon as it moved in front of the sunlit side of Earth in August 2015, from a distance of 1 million miles, VADER OUTPUT: {'neg': 0.0, 'neu': 0.971, 'pos': 0.029, 'compound': 0.0258}\n",
      "LABEL: positive TWEET TEXT: Saturn is currently behind the sun, and impossible for me to photograph. Soon itâ€™ll be visible in the mornings just before sunrise as a bright star to the East!  Hereâ€™s one of my favorite photos I captured of the planet. Next time I shoot it, the rings will be nearly edge-on!, VADER OUTPUT: {'neg': 0.044, 'neu': 0.838, 'pos': 0.118, 'compound': 0.6229}\n",
      "LABEL: positive TWEET TEXT: Yâ€™all can say what yâ€™all want but this is money well spentâ€¦ she looks goodt! , VADER OUTPUT: {'neg': 0.0, 'neu': 0.786, 'pos': 0.214, 'compound': 0.4753}\n",
      "LABEL: negative TWEET TEXT: This is a receipt from Burger King in 1986.  3 whoppers, 2 fries and 2 large vanilla ice cream for $8.39         Never forget what they took from us ðŸ˜°, VADER OUTPUT: {'neg': 0.0, 'neu': 0.935, 'pos': 0.065, 'compound': 0.1695}\n",
      "LABEL: negative TWEET TEXT: Just so we understand this correctly, MAGA lunatics are scrutinizing DA Fani Willisâ€™ personal life over her going dutch for dinner simply because she dared to do her job, but theyâ€™re okay with millions of dollars in luxury bribes being given to Clarence Thomas to buy his votes., VADER OUTPUT: {'neg': 0.082, 'neu': 0.874, 'pos': 0.045, 'compound': -0.2382}\n",
      "LABEL: positive TWEET TEXT: I donâ€™t have beef with a single soul . If ur mad get well soon, VADER OUTPUT: {'neg': 0.209, 'neu': 0.654, 'pos': 0.137, 'compound': -0.2732}\n",
      "LABEL: positive TWEET TEXT: This is one of the greatest things ever captured on national television., VADER OUTPUT: {'neg': 0.0, 'neu': 0.728, 'pos': 0.272, 'compound': 0.6249}\n",
      "LABEL: negative TWEET TEXT: They will harass a single mom but will let illegals board a plane without knowing who they areâ€¦clown world, VADER OUTPUT: {'neg': 0.304, 'neu': 0.696, 'pos': 0.0, 'compound': -0.7906}\n",
      "LABEL: negative TWEET TEXT: It's laughable that anyone, male or female, that looks like this is permitted to make health decisions for a country., VADER OUTPUT: {'neg': 0.0, 'neu': 0.829, 'pos': 0.171, 'compound': 0.4019}\n"
     ]
    }
   ],
   "source": [
    "tweets = []\n",
    "all_vader_output = []\n",
    "gold = []\n",
    "\n",
    "# settings (to change for different experiments)\n",
    "to_lemmatize = True \n",
    "pos = set()\n",
    "\n",
    "for id_, tweet_info in my_tweets.items():\n",
    "    the_tweet = tweet_info['text_of_tweet']\n",
    "    vader_output = run_vader(the_tweet, to_lemmatize, pos)\n",
    "    vader_label = vader_output_to_label(vader_output)\n",
    "    \n",
    "    tweets.append(the_tweet)\n",
    "    all_vader_output.append(vader_label)\n",
    "    gold.append(tweet_info['sentiment_label'])\n",
    "    \n",
    "    print(f\"LABEL: {tweet_info['sentiment_label']} TWEET: {the_tweet}, VADER OUTPUT: {vader_output}\")\n",
    "    \n",
    "# use scikit-learn's classification report"
   ]
  },
  {
   "cell_type": "markdown",
   "metadata": {},
   "source": [
    "### [4 points] Question 4:\n",
    "Run VADER on the set of airline tweets with the following settings:\n",
    "\n",
    "* Run VADER (as it is) on the set of airline tweets \n",
    "* Run VADER on the set of airline tweets after having lemmatized the text\n",
    "* Run VADER on the set of airline tweets with only adjectives\n",
    "* Run VADER on the set of airline tweets with only adjectives and after having lemmatized the text\n",
    "* Run VADER on the set of airline tweets with only nouns\n",
    "* Run VADER on the set of airline tweets with only nouns and after having lemmatized the text\n",
    "* Run VADER on the set of airline tweets with only verbs\n",
    "* Run VADER on the set of airline tweets with only verbs and after having lemmatized the text\n",
    "\n",
    "* [1 point] a. Generate for all separate experiments the classification report, i.e., Precision, Recall, and F<sub>1</sub> scores per category as well as micro and macro averages. **Use a different code cell (or multiple code cells) for each experiment.**\n",
    "* [3 points] b. Compare the scores and explain what they tell you.\n",
    "* - Does lemmatisation help? Explain why or why not.\n",
    "* - Are all parts of speech equally important for sentiment analysis? Explain why or why not."
   ]
  },
  {
   "cell_type": "code",
   "execution_count": null,
   "metadata": {},
   "outputs": [],
   "source": [
    "# Your code here\n"
   ]
  },
  {
   "cell_type": "markdown",
   "metadata": {},
   "source": [
    "## Part II: scikit-learn assignments\n",
    "### [4 points] Question 5\n",
    "Train the scikit-learn classifier (Naive Bayes) using the airline tweets.\n",
    "\n",
    "+ Train the model on the airline tweets with 80% training and 20% test set and default settings (TF-IDF representation, min_df=2)\n",
    "+ Train with different settings:\n",
    "    + with respect to vectorizing: TF-IDF ('airline_tfidf') vs. Bag of words representation ('airline_count') \n",
    "    + with respect to the frequency threshold (min_df). Carry out experiments with increasing values for document frequency (min_df = 2; min_df = 5; min_df =10) \n",
    "* [1 point] a. Generate a classification_report for all experiments\n",
    "* [3 points] b. Look at the results of the experiments with the different settings and try to explain why they differ: \n",
    "    + which category performs best, is this the case for any setting?\n",
    "    + does the frequency threshold affect the scores? Why or why not according to you?"
   ]
  },
  {
   "cell_type": "code",
   "execution_count": null,
   "metadata": {},
   "outputs": [],
   "source": [
    "# Your code here\n"
   ]
  },
  {
   "cell_type": "markdown",
   "metadata": {},
   "source": [
    "### [4 points] Question 6: Inspecting the best scoring features \n",
    "\n",
    "+ Train the scikit-learn classifier (Naive Bayes) model with the following settings (airline tweets 80% training and 20% test;  Bag of words representation ('airline_count'), min_df=2)\n",
    "* [1 point] a. Generate the list of best scoring features per class (see function **important_features_per_class** below) [1 point]\n",
    "* [3 points] b. Look at the lists and consider the following issues: \n",
    "    + [1 point] Which features did you expect for each separate class and why?\n",
    "    + [1 point] Which features did you not expect and why ? \n",
    "    + [1 point] The list contains all kinds of words such as names of airlines, punctuation, numbers and content words (e.g., 'delay' and 'bad'). Which words would you remove or keep when trying to improve the model and why? "
   ]
  },
  {
   "cell_type": "code",
   "execution_count": null,
   "metadata": {},
   "outputs": [],
   "source": [
    "def important_features_per_class(vectorizer,classifier,n=80):\n",
    "    class_labels = classifier.classes_\n",
    "    feature_names =vectorizer.get_feature_names()\n",
    "    topn_class1 = sorted(zip(classifier.feature_count_[0], feature_names),reverse=True)[:n]\n",
    "    topn_class2 = sorted(zip(classifier.feature_count_[1], feature_names),reverse=True)[:n]\n",
    "    topn_class3 = sorted(zip(classifier.feature_count_[2], feature_names),reverse=True)[:n]\n",
    "    print(\"Important words in negative documents\")\n",
    "    for coef, feat in topn_class1:\n",
    "        print(class_labels[0], coef, feat)\n",
    "    print(\"-----------------------------------------\")\n",
    "    print(\"Important words in neutral documents\")\n",
    "    for coef, feat in topn_class2:\n",
    "        print(class_labels[1], coef, feat) \n",
    "    print(\"-----------------------------------------\")\n",
    "    print(\"Important words in positive documents\")\n",
    "    for coef, feat in topn_class3:\n",
    "        print(class_labels[2], coef, feat) \n",
    "\n",
    "# example of how to call from notebook:\n",
    "#important_features_per_class(airline_vec, clf)"
   ]
  },
  {
   "cell_type": "markdown",
   "metadata": {},
   "source": [
    "### [Optional! (will not  be graded)] Question 7\n",
    "Train the model on airline tweets and test it on your own set of tweets\n",
    "+ Train the model with the following settings (airline tweets 80% training and 20% test;  Bag of words representation ('airline_count'), min_df=2)\n",
    "+ Apply the model on your own set of tweets and generate the classification report\n",
    "* [1 point] a. Carry out a quantitative analysis.\n",
    "* [1 point] b. Carry out an error analysis on 10 correctly and 10 incorrectly classified tweets and discuss them\n",
    "* [2 points] c. Compare the results (cf. classification report) with the results obtained by VADER on the same tweets and discuss the differences."
   ]
  },
  {
   "cell_type": "markdown",
   "metadata": {},
   "source": [
    "### [Optional! (will not be graded)] Question 8: trying to improve the model\n",
    "* [2 points] a. Think of some ways to improve the scikit-learn Naive Bayes model by playing with the settings or applying linguistic preprocessing (e.g., by filtering on part-of-speech, or removing punctuation). Do not change the classifier but continue using the Naive Bayes classifier. Explain what the effects might be of these other settings \n",
    "+ [1 point] b. Apply the model with at least one new setting (train on the airline tweets using 80% training, 20% test) and generate the scores\n",
    "* [1 point] c. Discuss whether the model achieved what you expected."
   ]
  },
  {
   "cell_type": "markdown",
   "metadata": {},
   "source": [
    "## End of this notebook"
   ]
  },
  {
   "cell_type": "code",
   "execution_count": null,
   "metadata": {},
   "outputs": [],
   "source": []
  }
 ],
 "metadata": {
  "kernelspec": {
   "display_name": "Python 3",
   "language": "python",
   "name": "python3"
  },
  "language_info": {
   "codemirror_mode": {
    "name": "ipython",
    "version": 3
   },
   "file_extension": ".py",
   "mimetype": "text/x-python",
   "name": "python",
   "nbconvert_exporter": "python",
   "pygments_lexer": "ipython3",
   "version": "3.11.0"
  }
 },
 "nbformat": 4,
 "nbformat_minor": 4
}
