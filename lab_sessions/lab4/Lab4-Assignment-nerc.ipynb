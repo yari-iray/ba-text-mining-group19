{
 "cells": [
  {
   "cell_type": "markdown",
   "metadata": {},
   "source": [
    "# Lab4-Assignment about Named Entity Recognition and Classification\n",
    "\n",
    "This notebook describes the assignment of Lab 4 of the text mining course. We assume you have succesfully completed Lab1, Lab2 and Lab3 as welll. Especially Lab2 is important for completing this assignment.\n",
    "\n",
    "**Learning goals**\n",
    "* going from linguistic input format to representing it in a feature space\n",
    "* working with pretrained word embeddings\n",
    "* train a supervised classifier (SVM)\n",
    "* evaluate a supervised classifier (SVM)\n",
    "* learn how to interpret the system output and the evaluation results\n",
    "* be able to propose future improvements based on the observed results\n"
   ]
  },
  {
   "cell_type": "markdown",
   "metadata": {},
   "source": [
    "## Credits\n",
    "This notebook was originally created by [Marten Postma](https://martenpostma.github.io) and [Filip Ilievski](http://ilievski.nl) and adapted by Piek vossen"
   ]
  },
  {
   "cell_type": "markdown",
   "metadata": {},
   "source": [
    "## [Points: 18] Exercise 1 (NERC): Training and evaluating an SVM using CoNLL-2003"
   ]
  },
  {
   "cell_type": "markdown",
   "metadata": {},
   "source": [
    "**[4 point] a) Load the CoNLL-2003 training data using the *ConllCorpusReader* and create for both *train.txt* and *test.txt*:**\n",
    "\n",
    "    [2 points]  -a list of dictionaries representing the features for each training instances, e..g,\n",
    "    ```\n",
    "    [\n",
    "    {'words': 'EU', 'pos': 'NNP'}, \n",
    "    {'words': 'rejects', 'pos': 'VBZ'},\n",
    "    ...\n",
    "    ]\n",
    "    ```\n",
    "\n",
    "    [2 points] -the NERC labels associated with each training instance, e.g.,\n",
    "    dictionaries, e.g.,\n",
    "    ```\n",
    "    [\n",
    "    'B-ORG', \n",
    "    'O',\n",
    "    ....\n",
    "    ]\n",
    "    ```"
   ]
  },
  {
   "cell_type": "markdown",
   "metadata": {},
   "source": [
    "**Text answer to exercise 1 (a):**\n",
    "\n",
    "The cells below load the CoNLL-2003 data into training and test data. The list of features we chose for this data are: the tokenised word, POS tag, 3-letter and 2-letter suffix, whether the first letter is capitalised, and whether the word is a title. The instances in each test are represented as dictionaries of the words and their features. These dictionaries are saved in a list of dictionaries labelled 'features'. The NERC tags are loaded as a list of labels called golf_labels."
   ]
  },
  {
   "cell_type": "code",
   "execution_count": 16,
   "metadata": {},
   "outputs": [],
   "source": [
    "from nltk.corpus.reader import ConllCorpusReader\n",
    "### Adapt the path to point to the CONLL2003 folder on your local machine\n",
    "train = ConllCorpusReader('./CONLL2003', 'train.txt', ['words', 'pos', 'ignore', 'chunk'])\n",
    "training_features = []\n",
    "training_gold_labels = []\n",
    "\n",
    "for token, pos, ne_label in train.iob_words():\n",
    "   a_dict = {\n",
    "      'word': token,                # the word itself\n",
    "      'pos': pos,                   # the part of speech\n",
    "      'word[-3:]': token[-3:],      # the last three characters of the word\n",
    "      'word[-2:]': token[-2:],      # the last two characters of the word\n",
    "      'upper': token[0].isupper(),  # whether the first letter is uppercase\n",
    "      'title': token.istitle(),      # whether the word is titlecased \n",
    "                                 \n",
    "         # NOTE: 'upper' and 'lower' will be slightly different because\n",
    "         # of words like 'EU' being uppercased but not titlecased\n",
    "\n",
    "   }\n",
    "\n",
    "   training_features.append(a_dict)\n",
    "   training_gold_labels.append(ne_label)\n",
    "   "
   ]
  },
  {
   "cell_type": "code",
   "execution_count": 17,
   "metadata": {},
   "outputs": [],
   "source": [
    "### Adapt the path to point to the CONLL2003 folder on your local machine\n",
    "test = ConllCorpusReader('./CONLL2003', 'test.txt', ['words', 'pos', 'ignore', 'chunk'])\n",
    "\n",
    "test_features = []\n",
    "test_gold_labels = []\n",
    "for token, pos, ne_label in test.iob_words():\n",
    "    a_dict = {\n",
    "        'word': token,                # the word itself\n",
    "        'pos': pos,                   # the part of speech\n",
    "        'word[-3:]': token[-3:],      # the last three characters of the word\n",
    "        'word[-2:]': token[-2:],      # the last two characters of the word\n",
    "        'upper': token[0].isupper(),  # whether the first letter is uppercase\n",
    "        'title': token.istitle(),      # whether the word is titlecased \n",
    "                                 \n",
    "        # NOTE: 'upper' and 'lower' will be slightly different because\n",
    "        # of words like 'EU' being uppercased but not titlecased\n",
    "\n",
    "    }\n",
    "\n",
    "    test_features.append(a_dict)\n",
    "    test_gold_labels.append(ne_label)"
   ]
  },
  {
   "cell_type": "markdown",
   "metadata": {},
   "source": [
    "**[2 points] b) provide descriptive statistics about the training and test data:**\n",
    "* How many instances are in train and test?\n",
    "* Provide a frequency distribution of the NERC labels, i.e., how many times does each NERC label occur?\n",
    "* Discuss to what extent the training and test data is balanced (equal amount of instances for each NERC label) and to what extent the training and test data differ?\n",
    "\n",
    "Tip: you can use the following `Counter` functionality to generate frequency list of a list:"
   ]
  },
  {
   "cell_type": "markdown",
   "metadata": {},
   "source": [
    "**Text answer to exercise 1 (b)**\n",
    "\n",
    "The training set has 203621 instances and the test set has 46435 instances. The frequency distribution of the NERC labels can be seen in the bar plot below followed by the exact percentage of the data that each label represents. The graph shows that the labels decrease in frequency at a fairly constant rate, and the test and training sets have very similar distributions."
   ]
  },
  {
   "cell_type": "code",
   "execution_count": 18,
   "metadata": {},
   "outputs": [
    {
     "name": "stdout",
     "output_type": "stream",
     "text": [
      "Training set size:  203621     = number of labels?: True\n",
      "    Test set size:  46435      = number of labels?: True\n"
     ]
    }
   ],
   "source": [
    "print(f\"Training set size:  {len(training_features)}     = number of labels?: {len(training_features)==len(training_gold_labels)}\")\n",
    "print(f\"    Test set size:  {len(test_features)}      = number of labels?: {len(test_features)==len(test_gold_labels)}\")"
   ]
  },
  {
   "cell_type": "code",
   "execution_count": 19,
   "metadata": {},
   "outputs": [
    {
     "name": "stdout",
     "output_type": "stream",
     "text": [
      "Training set NERC label counts:\n"
     ]
    },
    {
     "data": {
      "text/plain": [
       "Counter({'O': 169578,\n",
       "         'B-LOC': 7140,\n",
       "         'B-PER': 6600,\n",
       "         'B-ORG': 6321,\n",
       "         'I-PER': 4528,\n",
       "         'I-ORG': 3704,\n",
       "         'B-MISC': 3438,\n",
       "         'I-LOC': 1157,\n",
       "         'I-MISC': 1155})"
      ]
     },
     "execution_count": 19,
     "metadata": {},
     "output_type": "execute_result"
    }
   ],
   "source": [
    "from collections import Counter \n",
    "print(\"Training set NERC label counts:\")\n",
    "Counter(training_gold_labels)"
   ]
  },
  {
   "cell_type": "code",
   "execution_count": 20,
   "metadata": {},
   "outputs": [
    {
     "name": "stdout",
     "output_type": "stream",
     "text": [
      "Test set NERC label counts:\n"
     ]
    },
    {
     "data": {
      "text/plain": [
       "Counter({'O': 38323,\n",
       "         'B-LOC': 1668,\n",
       "         'B-ORG': 1661,\n",
       "         'B-PER': 1617,\n",
       "         'I-PER': 1156,\n",
       "         'I-ORG': 835,\n",
       "         'B-MISC': 702,\n",
       "         'I-LOC': 257,\n",
       "         'I-MISC': 216})"
      ]
     },
     "execution_count": 20,
     "metadata": {},
     "output_type": "execute_result"
    }
   ],
   "source": [
    "print(\"Test set NERC label counts:\")\n",
    "Counter(test_gold_labels)"
   ]
  },
  {
   "cell_type": "code",
   "execution_count": 21,
   "metadata": {},
   "outputs": [
    {
     "data": {
      "image/png": "[encoded data removed]",
      "text/plain": [
       "<Figure size 640x480 with 2 Axes>"
      ]
     },
     "metadata": {},
     "output_type": "display_data"
    }
   ],
   "source": [
    "import matplotlib.pyplot as plt\n",
    "import numpy as np\n",
    "\n",
    "# create counts\n",
    "train_ne_label_counts = Counter(training_gold_labels)\n",
    "test_ne_label_counts = Counter(test_gold_labels)\n",
    "\n",
    "# COMMENT THIS TO INCLUDE 'O' LABEL ––––––––––––––––––––––––––!!!!!!!!!!!!!!\n",
    "train_ne_label_counts.pop('O')\n",
    "test_ne_label_counts.pop('O')\n",
    "# ––––––––––––––––––––––––––––––––––––––––––––––––––––––––––––!!!!!!!!!!!!!!\n",
    "\n",
    "# sort by count\n",
    "train_ne_label_counts = dict(sorted(train_ne_label_counts.items(), key=lambda item: item[1], reverse=True))\n",
    "test_ne_label_counts = dict(sorted(test_ne_label_counts.items(), key=lambda item: item[1], reverse=True))\n",
    "\n",
    "fig, ax1 = plt.subplots()\n",
    "ax2 = ax1.twinx()\n",
    "bar_width = 0.35\n",
    "train_x = np.arange(len(train_ne_label_counts))\n",
    "test_x = train_x + bar_width\n",
    "ax1.bar(train_x, train_ne_label_counts.values(), width=bar_width, color='tab:blue', label='Train Count')\n",
    "ax1.set_ylabel('Train Count', color='tab:blue')\n",
    "ax2.bar(test_x, test_ne_label_counts.values(), width=bar_width, color='tab:orange', label='Test Count')\n",
    "ax2.set_ylabel('Test Count', color='tab:orange')\n",
    "ax1.set_xticks(train_x + bar_width / 2)\n",
    "ax1.set_xticklabels(train_ne_label_counts.keys(), rotation=45)\n",
    "plt.title(\"NERC label distribution\")\n",
    "plt.grid(True, color='black', linestyle='--', alpha=0.5)\n",
    "plt.show()\n"
   ]
  },
  {
   "cell_type": "code",
   "execution_count": 22,
   "metadata": {},
   "outputs": [
    {
     "name": "stdout",
     "output_type": "stream",
     "text": [
      "Training set NERC label distribution:\n",
      "\n",
      "O: 83.28% | 82.53% ––––– difference: 0.75%\n",
      "B-LOC: 3.51% | 3.59% ––––– difference: -0.09%\n",
      "B-PER: 3.24% | 3.48% ––––– difference: -0.24%\n",
      "B-ORG: 3.10% | 3.58% ––––– difference: -0.47%\n",
      "I-PER: 2.22% | 2.49% ––––– difference: -0.27%\n",
      "I-ORG: 1.82% | 1.80% ––––– difference: 0.02%\n",
      "B-MISC: 1.69% | 1.51% ––––– difference: 0.18%\n",
      "I-LOC: 0.57% | 0.55% ––––– difference: 0.01%\n",
      "I-MISC: 0.57% | 0.47% ––––– difference: 0.10%\n"
     ]
    }
   ],
   "source": [
    "def label_distribution(data):\n",
    "    a_dict = {}\n",
    "    for label in Counter(data):\n",
    "        a_dict[label] = Counter(data)[label]/len(data)*100\n",
    "    return a_dict\n",
    "\n",
    "print(\"Training set NERC label distribution:\\n\")\n",
    "\n",
    "training_dist = label_distribution(training_gold_labels)\n",
    "training_dist = dict(sorted(training_dist.items(), key=lambda item: item[1], reverse=True))\n",
    "test_dist = label_distribution(test_gold_labels)\n",
    "for label in training_dist:\n",
    "    print(f\"{label}: {training_dist[label]:.2f}% | {test_dist[label]:.2f}% ––––– difference: {training_dist[label]-test_dist[label]:.2f}%\")"
   ]
  },
  {
   "cell_type": "markdown",
   "metadata": {},
   "source": [
    "**[2 points] c) Concatenate the train and test features (the list of dictionaries) into one list. Load it using the *DictVectorizer*. Afterwards, split it back to training and test.**\n",
    "\n",
    "Tip: You’ve concatenated train and test into one list and then you’ve applied the DictVectorizer.\n",
    "The order of the rows is maintained. You can hence use an index (number of training instances) to split the_array back into train and test. Do NOT use: `\n",
    "from sklearn.model_selection import train_test_split` here.\n"
   ]
  },
  {
   "cell_type": "code",
   "execution_count": 23,
   "metadata": {},
   "outputs": [],
   "source": [
    "all_features = training_features.copy()\n",
    "all_features.extend(test_features)"
   ]
  },
  {
   "cell_type": "code",
   "execution_count": 24,
   "metadata": {},
   "outputs": [],
   "source": [
    "from sklearn.feature_extraction import DictVectorizer"
   ]
  },
  {
   "cell_type": "code",
   "execution_count": 25,
   "metadata": {},
   "outputs": [],
   "source": [
    "vec = DictVectorizer()\n",
    "the_array = vec.fit_transform(all_features)\n",
    "# print(the_array.shape)\n",
    "\n",
    "vec_training_features = the_array[:len(training_features)]\n",
    "vec_test_features = the_array[len(training_features):]\n",
    "\n",
    "# print(len(vec_training_features.toarray()))\n",
    "# print(len(vec_test_features.toarray()))\n"
   ]
  },
  {
   "cell_type": "code",
   "execution_count": 26,
   "metadata": {},
   "outputs": [],
   "source": [
    "all_features = training_features.copy()\n",
    "all_features.extend(test_features)\n",
    "\n",
    "vec = DictVectorizer()\n",
    "the_array = vec.fit_transform(all_features)\n",
    "# print(the_array.shape)\n",
    "\n",
    "vec_training_features = the_array[:len(training_features)]\n",
    "vec_test_features = the_array[len(training_features):]\n",
    "\n",
    "# print(len(vec_training_features.toarray()))\n",
    "# print(len(vec_test_features.toarray()))"
   ]
  },
  {
   "cell_type": "markdown",
   "metadata": {},
   "source": [
    "**[4 points] d) Train the SVM using the train features and labels and evaluate on the test data. Provide a classification report (sklearn.metrics.classification_report).**\n",
    "The train (*lin_clf.fit*) might take a while. On my computer, it took 1min 53s, which is acceptable. Training models normally takes much longer. If it takes more than 5 minutes, you can use a subset for training. Describe the results:\n",
    "* Which NERC labels does the classifier perform well on? Why do you think this is the case?\n",
    "* Which NERC labels does the classifier perform poorly on? Why do you think this is the case?"
   ]
  },
  {
   "cell_type": "markdown",
   "metadata": {},
   "source": [
    "**Text answer to exercise 1 (d):**\n",
    "- The classifier performs well on B-LOC, B-MISC and really well on O. B-LOC is the first token in an entity that is a location. We think this performs well because it is the most prevalent label outside of the O label, which makes it easier to guess. B-MISC is the first token in an entity where the tokens are name enties that are not in one of the other categories. We think this performs well because it usually has a recognizable pattern, with the first letter being capitalized, and the last 3 letters often being 'ian' or 'ean' to note someone of a certain descent. The last 3 letters of the word is one of the features. Lastly O is used for tokens that are oustide of named entites. This performs really well because it is very prevalent, and most of the words are uncapitalized.\n",
    "- The classifier performs poorly on I-ORG and I-per. I-ORG denotes tokens inside an organization entity. We think this could be because understanding an token inside an organization entity may require understanding of the context. I-PER represents tokens inisde a person entity. We think this is also because context can play a big role in this. As well as the variability of ways a person can be denoted. This diversity makes it more difficult for the classifier. "
   ]
  },
  {
   "cell_type": "code",
   "execution_count": 27,
   "metadata": {},
   "outputs": [],
   "source": [
    "from sklearn import svm"
   ]
  },
  {
   "cell_type": "code",
   "execution_count": 28,
   "metadata": {},
   "outputs": [],
   "source": [
    "lin_clf = svm.LinearSVC()"
   ]
  },
  {
   "cell_type": "code",
   "execution_count": 29,
   "metadata": {},
   "outputs": [
    {
     "name": "stderr",
     "output_type": "stream",
     "text": [
      "c:\\Python312\\Lib\\site-packages\\sklearn\\svm\\_classes.py:31: FutureWarning: The default value of `dual` will change from `True` to `'auto'` in 1.5. Set the value of `dual` explicitly to suppress the warning.\n",
      "  warnings.warn(\n"
     ]
    },
    {
     "ename": "KeyboardInterrupt",
     "evalue": "",
     "output_type": "error",
     "traceback": [
      "\u001b[1;31m---------------------------------------------------------------------------\u001b[0m",
      "\u001b[1;31mKeyboardInterrupt\u001b[0m                         Traceback (most recent call last)",
      "Cell \u001b[1;32mIn[29], line 4\u001b[0m\n\u001b[0;32m      1\u001b[0m \u001b[38;5;28;01mfrom\u001b[39;00m \u001b[38;5;21;01msklearn\u001b[39;00m\u001b[38;5;21;01m.\u001b[39;00m\u001b[38;5;21;01mmetrics\u001b[39;00m \u001b[38;5;28;01mimport\u001b[39;00m classification_report\n\u001b[0;32m      3\u001b[0m \u001b[38;5;66;03m# Train the SVM model\u001b[39;00m\n\u001b[1;32m----> 4\u001b[0m \u001b[43mlin_clf\u001b[49m\u001b[38;5;241;43m.\u001b[39;49m\u001b[43mfit\u001b[49m\u001b[43m(\u001b[49m\u001b[43mvec_training_features\u001b[49m\u001b[43m,\u001b[49m\u001b[43m \u001b[49m\u001b[43mtraining_gold_labels\u001b[49m\u001b[43m)\u001b[49m\n\u001b[0;32m      5\u001b[0m predicted_labels \u001b[38;5;241m=\u001b[39m lin_clf\u001b[38;5;241m.\u001b[39mpredict(vec_test_features)\n\u001b[0;32m      7\u001b[0m report \u001b[38;5;241m=\u001b[39m classification_report(test_gold_labels, predicted_labels)\n",
      "File \u001b[1;32mc:\\Python312\\Lib\\site-packages\\sklearn\\base.py:1474\u001b[0m, in \u001b[0;36m_fit_context.<locals>.decorator.<locals>.wrapper\u001b[1;34m(estimator, *args, **kwargs)\u001b[0m\n\u001b[0;32m   1467\u001b[0m     estimator\u001b[38;5;241m.\u001b[39m_validate_params()\n\u001b[0;32m   1469\u001b[0m \u001b[38;5;28;01mwith\u001b[39;00m config_context(\n\u001b[0;32m   1470\u001b[0m     skip_parameter_validation\u001b[38;5;241m=\u001b[39m(\n\u001b[0;32m   1471\u001b[0m         prefer_skip_nested_validation \u001b[38;5;129;01mor\u001b[39;00m global_skip_validation\n\u001b[0;32m   1472\u001b[0m     )\n\u001b[0;32m   1473\u001b[0m ):\n\u001b[1;32m-> 1474\u001b[0m     \u001b[38;5;28;01mreturn\u001b[39;00m \u001b[43mfit_method\u001b[49m\u001b[43m(\u001b[49m\u001b[43mestimator\u001b[49m\u001b[43m,\u001b[49m\u001b[43m \u001b[49m\u001b[38;5;241;43m*\u001b[39;49m\u001b[43margs\u001b[49m\u001b[43m,\u001b[49m\u001b[43m \u001b[49m\u001b[38;5;241;43m*\u001b[39;49m\u001b[38;5;241;43m*\u001b[39;49m\u001b[43mkwargs\u001b[49m\u001b[43m)\u001b[49m\n",
      "File \u001b[1;32mc:\\Python312\\Lib\\site-packages\\sklearn\\svm\\_classes.py:325\u001b[0m, in \u001b[0;36mLinearSVC.fit\u001b[1;34m(self, X, y, sample_weight)\u001b[0m\n\u001b[0;32m    319\u001b[0m \u001b[38;5;28mself\u001b[39m\u001b[38;5;241m.\u001b[39mclasses_ \u001b[38;5;241m=\u001b[39m np\u001b[38;5;241m.\u001b[39munique(y)\n\u001b[0;32m    321\u001b[0m _dual \u001b[38;5;241m=\u001b[39m _validate_dual_parameter(\n\u001b[0;32m    322\u001b[0m     \u001b[38;5;28mself\u001b[39m\u001b[38;5;241m.\u001b[39mdual, \u001b[38;5;28mself\u001b[39m\u001b[38;5;241m.\u001b[39mloss, \u001b[38;5;28mself\u001b[39m\u001b[38;5;241m.\u001b[39mpenalty, \u001b[38;5;28mself\u001b[39m\u001b[38;5;241m.\u001b[39mmulti_class, X\n\u001b[0;32m    323\u001b[0m )\n\u001b[1;32m--> 325\u001b[0m \u001b[38;5;28mself\u001b[39m\u001b[38;5;241m.\u001b[39mcoef_, \u001b[38;5;28mself\u001b[39m\u001b[38;5;241m.\u001b[39mintercept_, n_iter_ \u001b[38;5;241m=\u001b[39m \u001b[43m_fit_liblinear\u001b[49m\u001b[43m(\u001b[49m\n\u001b[0;32m    326\u001b[0m \u001b[43m    \u001b[49m\u001b[43mX\u001b[49m\u001b[43m,\u001b[49m\n\u001b[0;32m    327\u001b[0m \u001b[43m    \u001b[49m\u001b[43my\u001b[49m\u001b[43m,\u001b[49m\n\u001b[0;32m    328\u001b[0m \u001b[43m    \u001b[49m\u001b[38;5;28;43mself\u001b[39;49m\u001b[38;5;241;43m.\u001b[39;49m\u001b[43mC\u001b[49m\u001b[43m,\u001b[49m\n\u001b[0;32m    329\u001b[0m \u001b[43m    \u001b[49m\u001b[38;5;28;43mself\u001b[39;49m\u001b[38;5;241;43m.\u001b[39;49m\u001b[43mfit_intercept\u001b[49m\u001b[43m,\u001b[49m\n\u001b[0;32m    330\u001b[0m \u001b[43m    \u001b[49m\u001b[38;5;28;43mself\u001b[39;49m\u001b[38;5;241;43m.\u001b[39;49m\u001b[43mintercept_scaling\u001b[49m\u001b[43m,\u001b[49m\n\u001b[0;32m    331\u001b[0m \u001b[43m    \u001b[49m\u001b[38;5;28;43mself\u001b[39;49m\u001b[38;5;241;43m.\u001b[39;49m\u001b[43mclass_weight\u001b[49m\u001b[43m,\u001b[49m\n\u001b[0;32m    332\u001b[0m \u001b[43m    \u001b[49m\u001b[38;5;28;43mself\u001b[39;49m\u001b[38;5;241;43m.\u001b[39;49m\u001b[43mpenalty\u001b[49m\u001b[43m,\u001b[49m\n\u001b[0;32m    333\u001b[0m \u001b[43m    \u001b[49m\u001b[43m_dual\u001b[49m\u001b[43m,\u001b[49m\n\u001b[0;32m    334\u001b[0m \u001b[43m    \u001b[49m\u001b[38;5;28;43mself\u001b[39;49m\u001b[38;5;241;43m.\u001b[39;49m\u001b[43mverbose\u001b[49m\u001b[43m,\u001b[49m\n\u001b[0;32m    335\u001b[0m \u001b[43m    \u001b[49m\u001b[38;5;28;43mself\u001b[39;49m\u001b[38;5;241;43m.\u001b[39;49m\u001b[43mmax_iter\u001b[49m\u001b[43m,\u001b[49m\n\u001b[0;32m    336\u001b[0m \u001b[43m    \u001b[49m\u001b[38;5;28;43mself\u001b[39;49m\u001b[38;5;241;43m.\u001b[39;49m\u001b[43mtol\u001b[49m\u001b[43m,\u001b[49m\n\u001b[0;32m    337\u001b[0m \u001b[43m    \u001b[49m\u001b[38;5;28;43mself\u001b[39;49m\u001b[38;5;241;43m.\u001b[39;49m\u001b[43mrandom_state\u001b[49m\u001b[43m,\u001b[49m\n\u001b[0;32m    338\u001b[0m \u001b[43m    \u001b[49m\u001b[38;5;28;43mself\u001b[39;49m\u001b[38;5;241;43m.\u001b[39;49m\u001b[43mmulti_class\u001b[49m\u001b[43m,\u001b[49m\n\u001b[0;32m    339\u001b[0m \u001b[43m    \u001b[49m\u001b[38;5;28;43mself\u001b[39;49m\u001b[38;5;241;43m.\u001b[39;49m\u001b[43mloss\u001b[49m\u001b[43m,\u001b[49m\n\u001b[0;32m    340\u001b[0m \u001b[43m    \u001b[49m\u001b[43msample_weight\u001b[49m\u001b[38;5;241;43m=\u001b[39;49m\u001b[43msample_weight\u001b[49m\u001b[43m,\u001b[49m\n\u001b[0;32m    341\u001b[0m \u001b[43m\u001b[49m\u001b[43m)\u001b[49m\n\u001b[0;32m    342\u001b[0m \u001b[38;5;66;03m# Backward compatibility: _fit_liblinear is used both by LinearSVC/R\u001b[39;00m\n\u001b[0;32m    343\u001b[0m \u001b[38;5;66;03m# and LogisticRegression but LogisticRegression sets a structured\u001b[39;00m\n\u001b[0;32m    344\u001b[0m \u001b[38;5;66;03m# `n_iter_` attribute with information about the underlying OvR fits\u001b[39;00m\n\u001b[0;32m    345\u001b[0m \u001b[38;5;66;03m# while LinearSVC/R only reports the maximum value.\u001b[39;00m\n\u001b[0;32m    346\u001b[0m \u001b[38;5;28mself\u001b[39m\u001b[38;5;241m.\u001b[39mn_iter_ \u001b[38;5;241m=\u001b[39m n_iter_\u001b[38;5;241m.\u001b[39mmax()\u001b[38;5;241m.\u001b[39mitem()\n",
      "File \u001b[1;32mc:\\Python312\\Lib\\site-packages\\sklearn\\svm\\_base.py:1217\u001b[0m, in \u001b[0;36m_fit_liblinear\u001b[1;34m(X, y, C, fit_intercept, intercept_scaling, class_weight, penalty, dual, verbose, max_iter, tol, random_state, multi_class, loss, epsilon, sample_weight)\u001b[0m\n\u001b[0;32m   1214\u001b[0m sample_weight \u001b[38;5;241m=\u001b[39m _check_sample_weight(sample_weight, X, dtype\u001b[38;5;241m=\u001b[39mnp\u001b[38;5;241m.\u001b[39mfloat64)\n\u001b[0;32m   1216\u001b[0m solver_type \u001b[38;5;241m=\u001b[39m _get_liblinear_solver_type(multi_class, penalty, loss, dual)\n\u001b[1;32m-> 1217\u001b[0m raw_coef_, n_iter_ \u001b[38;5;241m=\u001b[39m \u001b[43mliblinear\u001b[49m\u001b[38;5;241;43m.\u001b[39;49m\u001b[43mtrain_wrap\u001b[49m\u001b[43m(\u001b[49m\n\u001b[0;32m   1218\u001b[0m \u001b[43m    \u001b[49m\u001b[43mX\u001b[49m\u001b[43m,\u001b[49m\n\u001b[0;32m   1219\u001b[0m \u001b[43m    \u001b[49m\u001b[43my_ind\u001b[49m\u001b[43m,\u001b[49m\n\u001b[0;32m   1220\u001b[0m \u001b[43m    \u001b[49m\u001b[43msp\u001b[49m\u001b[38;5;241;43m.\u001b[39;49m\u001b[43missparse\u001b[49m\u001b[43m(\u001b[49m\u001b[43mX\u001b[49m\u001b[43m)\u001b[49m\u001b[43m,\u001b[49m\n\u001b[0;32m   1221\u001b[0m \u001b[43m    \u001b[49m\u001b[43msolver_type\u001b[49m\u001b[43m,\u001b[49m\n\u001b[0;32m   1222\u001b[0m \u001b[43m    \u001b[49m\u001b[43mtol\u001b[49m\u001b[43m,\u001b[49m\n\u001b[0;32m   1223\u001b[0m \u001b[43m    \u001b[49m\u001b[43mbias\u001b[49m\u001b[43m,\u001b[49m\n\u001b[0;32m   1224\u001b[0m \u001b[43m    \u001b[49m\u001b[43mC\u001b[49m\u001b[43m,\u001b[49m\n\u001b[0;32m   1225\u001b[0m \u001b[43m    \u001b[49m\u001b[43mclass_weight_\u001b[49m\u001b[43m,\u001b[49m\n\u001b[0;32m   1226\u001b[0m \u001b[43m    \u001b[49m\u001b[43mmax_iter\u001b[49m\u001b[43m,\u001b[49m\n\u001b[0;32m   1227\u001b[0m \u001b[43m    \u001b[49m\u001b[43mrnd\u001b[49m\u001b[38;5;241;43m.\u001b[39;49m\u001b[43mrandint\u001b[49m\u001b[43m(\u001b[49m\u001b[43mnp\u001b[49m\u001b[38;5;241;43m.\u001b[39;49m\u001b[43miinfo\u001b[49m\u001b[43m(\u001b[49m\u001b[38;5;124;43m\"\u001b[39;49m\u001b[38;5;124;43mi\u001b[39;49m\u001b[38;5;124;43m\"\u001b[39;49m\u001b[43m)\u001b[49m\u001b[38;5;241;43m.\u001b[39;49m\u001b[43mmax\u001b[49m\u001b[43m)\u001b[49m\u001b[43m,\u001b[49m\n\u001b[0;32m   1228\u001b[0m \u001b[43m    \u001b[49m\u001b[43mepsilon\u001b[49m\u001b[43m,\u001b[49m\n\u001b[0;32m   1229\u001b[0m \u001b[43m    \u001b[49m\u001b[43msample_weight\u001b[49m\u001b[43m,\u001b[49m\n\u001b[0;32m   1230\u001b[0m \u001b[43m\u001b[49m\u001b[43m)\u001b[49m\n\u001b[0;32m   1231\u001b[0m \u001b[38;5;66;03m# Regarding rnd.randint(..) in the above signature:\u001b[39;00m\n\u001b[0;32m   1232\u001b[0m \u001b[38;5;66;03m# seed for srand in range [0..INT_MAX); due to limitations in Numpy\u001b[39;00m\n\u001b[0;32m   1233\u001b[0m \u001b[38;5;66;03m# on 32-bit platforms, we can't get to the UINT_MAX limit that\u001b[39;00m\n\u001b[0;32m   1234\u001b[0m \u001b[38;5;66;03m# srand supports\u001b[39;00m\n\u001b[0;32m   1235\u001b[0m n_iter_max \u001b[38;5;241m=\u001b[39m \u001b[38;5;28mmax\u001b[39m(n_iter_)\n",
      "\u001b[1;31mKeyboardInterrupt\u001b[0m: "
     ]
    }
   ],
   "source": [
    "from sklearn.metrics import classification_report\n",
    "\n",
    "# Train the SVM model\n",
    "lin_clf.fit(vec_training_features, training_gold_labels)\n",
    "predicted_labels = lin_clf.predict(vec_test_features)\n",
    "\n",
    "report = classification_report(test_gold_labels, predicted_labels)\n",
    "\n",
    "print(report)\n"
   ]
  },
  {
   "cell_type": "markdown",
   "metadata": {},
   "source": [
    "**[6 points] e) Train a model that uses the embeddings of these words as inputs. Test again on the same data as in 2d. Generate a classification report and compare the results with the classifier you built in 2d.**"
   ]
  },
  {
   "cell_type": "markdown",
   "metadata": {},
   "source": [
    "**Text answer to exercise 1 (e):**\n",
    "\n",
    "We see that the performance for B-org and B-per increase significantly. This could very well be because word embeddings allow for that little bit of context needed to recognize these words.\n",
    "\n",
    "However, we also see a decrease in performance for I-loc and I-org. This could be explained by the fact that words that are often used in the inside of such expressions can also be used as just a normal word (for example, Dominican republic is a location, however, the word republic seperately is not a named entity and will thus be labeled as O). This also explain the drop (although slight) in performance for O. \n",
    "\n",
    "The same does not go for I-per, since names are usually not used in a different context and thus will still be recognized as names."
   ]
  },
  {
   "cell_type": "code",
   "execution_count": 33,
   "metadata": {},
   "outputs": [
    {
     "name": "stdout",
     "output_type": "stream",
     "text": [
      "C:\\Users\\Yari\\OneDrive - Vrije Universiteit Amsterdam\\Year 3\\Period 3.4\\Text mining\\ba-text-mining-group19\\lab_sessions\\lab4\\GoogleNews-vectors-negative300.bin\n",
      "does path exist? -> False\n"
     ]
    }
   ],
   "source": [
    "from pathlib import Path\n",
    "cur_dir = Path().resolve() # this should provide you with the folder in which this notebook is placed\n",
    "path_to_file = Path.joinpath(cur_dir, 'GoogleNews-vectors-negative300.bin')\n",
    "print(path_to_file)\n",
    "print('does path exist? ->', Path.exists(path_to_file))"
   ]
  },
  {
   "cell_type": "code",
   "execution_count": 35,
   "metadata": {},
   "outputs": [],
   "source": [
    "import gensim\n",
    "\n",
    "word_embedding_model = gensim.models.KeyedVectors.load_word2vec_format(path_to_file, binary=True)  \n",
    "\n",
    "input_vectors=[]\n",
    "labels=[]\n",
    "for token, pos, ne_label in train.iob_words():\n",
    "    \n",
    "    if token!='' and token!='DOCSTART':\n",
    "        if token in word_embedding_model:\n",
    "            vector=word_embedding_model[token]\n",
    "        else:\n",
    "            vector=[0]*300\n",
    "        input_vectors.append(vector)\n",
    "        labels.append(ne_label)"
   ]
  },
  {
   "cell_type": "code",
   "execution_count": 36,
   "metadata": {},
   "outputs": [],
   "source": [
    "test_input_vectors = []\n",
    "test_labels = []\n",
    "\n",
    "for token, pos, ne_label in test.iob_words():\n",
    "    if token != '' and token != 'DOCSTART':\n",
    "        if token in word_embedding_model:\n",
    "            vector = word_embedding_model[token]\n",
    "        else:\n",
    "            vector = [0] * 300\n",
    "        test_input_vectors.append(vector)\n",
    "        test_labels.append(ne_label)"
   ]
  },
  {
   "cell_type": "code",
   "execution_count": 23,
   "metadata": {},
   "outputs": [],
   "source": [
    "from sklearn import svm\n",
    "\n",
    "lin_clf = svm.LinearSVC()\n"
   ]
  },
  {
   "cell_type": "code",
   "execution_count": 24,
   "metadata": {},
   "outputs": [
    {
     "name": "stderr",
     "output_type": "stream",
     "text": [
      "c:\\Users\\Isate\\AppData\\Local\\Programs\\Python\\Python310\\lib\\site-packages\\sklearn\\svm\\_classes.py:31: FutureWarning: The default value of `dual` will change from `True` to `'auto'` in 1.5. Set the value of `dual` explicitly to suppress the warning.\n",
      "  warnings.warn(\n"
     ]
    },
    {
     "name": "stdout",
     "output_type": "stream",
     "text": [
      "              precision    recall  f1-score   support\n",
      "\n",
      "       B-LOC       0.76      0.80      0.78      1668\n",
      "      B-MISC       0.72      0.70      0.71       702\n",
      "       B-ORG       0.69      0.64      0.66      1661\n",
      "       B-PER       0.75      0.67      0.71      1617\n",
      "       I-LOC       0.51      0.42      0.46       257\n",
      "      I-MISC       0.60      0.54      0.57       216\n",
      "       I-ORG       0.48      0.33      0.39       835\n",
      "       I-PER       0.59      0.50      0.54      1156\n",
      "           O       0.97      0.99      0.98     38323\n",
      "\n",
      "    accuracy                           0.93     46435\n",
      "   macro avg       0.68      0.62      0.64     46435\n",
      "weighted avg       0.92      0.93      0.92     46435\n",
      "\n"
     ]
    }
   ],
   "source": [
    "lin_clf.fit(input_vectors, labels)\n",
    "predicted_labels = lin_clf.predict(test_input_vectors)\n",
    "\n",
    "report = classification_report(test_labels, predicted_labels)\n",
    "\n",
    "print(report)"
   ]
  },
  {
   "cell_type": "markdown",
   "metadata": {},
   "source": [
    "## [Points: 10] Exercise 2 (NERC): feature inspection using the [Annotated Corpus for Named Entity Recognition](https://www.kaggle.com/abhinavwalia95/entity-annotated-corpus)\n",
    "**[6 points] a. Perform the same steps as in the previous exercise. Make sure you end up for both the training part (*df_train*) and the test part (*df_test*) with:**\n",
    "* the features representation using **DictVectorizer**\n",
    "* the NERC labels in a list\n",
    "\n",
    "Please note that this is the same setup as in the previous exercise:\n",
    "* load both train and test using:\n",
    "    * list of dictionaries for features\n",
    "    * list of NERC labels\n",
    "* combine train and test features in a list and represent them using one hot encoding\n",
    "* train using the training features and NERC labels"
   ]
  },
  {
   "cell_type": "code",
   "execution_count": 22,
   "metadata": {},
   "outputs": [],
   "source": [
    "import pandas"
   ]
  },
  {
   "cell_type": "code",
   "execution_count": 23,
   "metadata": {},
   "outputs": [
    {
     "name": "stderr",
     "output_type": "stream",
     "text": [
      "/var/folders/12/wd9t8m850v12fpd_v81hh2hm0000gn/T/ipykernel_87785/13394443.py:3: ParserWarning: Skipping line 281837: expected 25 fields, saw 34\n",
      "\n",
      "  kaggle_dataset = pandas.read_csv(path, on_bad_lines='warn')\n"
     ]
    }
   ],
   "source": [
    "##### Adapt the path to point to your local copy of NERC_datasets\n",
    "path = '/Users/axelehrnrooth/Desktop/Text Mining/other/nerc_datasets/kaggle/ner_v2.csv'\n",
    "kaggle_dataset = pandas.read_csv(path, on_bad_lines='warn')"
   ]
  },
  {
   "cell_type": "code",
   "execution_count": 24,
   "metadata": {},
   "outputs": [
    {
     "data": {
      "text/plain": [
       "1050795"
      ]
     },
     "execution_count": 24,
     "metadata": {},
     "output_type": "execute_result"
    }
   ],
   "source": [
    "len(kaggle_dataset)"
   ]
  },
  {
   "cell_type": "code",
   "execution_count": 25,
   "metadata": {},
   "outputs": [
    {
     "name": "stdout",
     "output_type": "stream",
     "text": [
      "100000 20000\n"
     ]
    }
   ],
   "source": [
    "df_train = kaggle_dataset[:100000]\n",
    "df_test = kaggle_dataset[100000:120000]\n",
    "print(len(df_train), len(df_test))"
   ]
  },
  {
   "cell_type": "code",
   "execution_count": 80,
   "metadata": {},
   "outputs": [
    {
     "data": {
      "text/html": [
       "<div>\n",
       "<style scoped>\n",
       "    .dataframe tbody tr th:only-of-type {\n",
       "        vertical-align: middle;\n",
       "    }\n",
       "\n",
       "    .dataframe tbody tr th {\n",
       "        vertical-align: top;\n",
       "    }\n",
       "\n",
       "    .dataframe thead th {\n",
       "        text-align: right;\n",
       "    }\n",
       "</style>\n",
       "<table border=\"1\" class=\"dataframe\">\n",
       "  <thead>\n",
       "    <tr style=\"text-align: right;\">\n",
       "      <th></th>\n",
       "      <th>id</th>\n",
       "      <th>lemma</th>\n",
       "      <th>next-lemma</th>\n",
       "      <th>next-next-lemma</th>\n",
       "      <th>next-next-pos</th>\n",
       "      <th>next-next-shape</th>\n",
       "      <th>next-next-word</th>\n",
       "      <th>next-pos</th>\n",
       "      <th>next-shape</th>\n",
       "      <th>next-word</th>\n",
       "      <th>...</th>\n",
       "      <th>prev-prev-lemma</th>\n",
       "      <th>prev-prev-pos</th>\n",
       "      <th>prev-prev-shape</th>\n",
       "      <th>prev-prev-word</th>\n",
       "      <th>prev-shape</th>\n",
       "      <th>prev-word</th>\n",
       "      <th>sentence_idx</th>\n",
       "      <th>shape</th>\n",
       "      <th>word</th>\n",
       "      <th>tag</th>\n",
       "    </tr>\n",
       "  </thead>\n",
       "  <tbody>\n",
       "    <tr>\n",
       "      <th>0</th>\n",
       "      <td>0</td>\n",
       "      <td>thousand</td>\n",
       "      <td>of</td>\n",
       "      <td>demonstr</td>\n",
       "      <td>NNS</td>\n",
       "      <td>lowercase</td>\n",
       "      <td>demonstrators</td>\n",
       "      <td>IN</td>\n",
       "      <td>lowercase</td>\n",
       "      <td>of</td>\n",
       "      <td>...</td>\n",
       "      <td>__start2__</td>\n",
       "      <td>__START2__</td>\n",
       "      <td>wildcard</td>\n",
       "      <td>__START2__</td>\n",
       "      <td>wildcard</td>\n",
       "      <td>__START1__</td>\n",
       "      <td>1.0</td>\n",
       "      <td>capitalized</td>\n",
       "      <td>Thousands</td>\n",
       "      <td>O</td>\n",
       "    </tr>\n",
       "    <tr>\n",
       "      <th>1</th>\n",
       "      <td>1</td>\n",
       "      <td>of</td>\n",
       "      <td>demonstr</td>\n",
       "      <td>have</td>\n",
       "      <td>VBP</td>\n",
       "      <td>lowercase</td>\n",
       "      <td>have</td>\n",
       "      <td>NNS</td>\n",
       "      <td>lowercase</td>\n",
       "      <td>demonstrators</td>\n",
       "      <td>...</td>\n",
       "      <td>__start1__</td>\n",
       "      <td>__START1__</td>\n",
       "      <td>wildcard</td>\n",
       "      <td>__START1__</td>\n",
       "      <td>capitalized</td>\n",
       "      <td>Thousands</td>\n",
       "      <td>1.0</td>\n",
       "      <td>lowercase</td>\n",
       "      <td>of</td>\n",
       "      <td>O</td>\n",
       "    </tr>\n",
       "    <tr>\n",
       "      <th>2</th>\n",
       "      <td>2</td>\n",
       "      <td>demonstr</td>\n",
       "      <td>have</td>\n",
       "      <td>march</td>\n",
       "      <td>VBN</td>\n",
       "      <td>lowercase</td>\n",
       "      <td>marched</td>\n",
       "      <td>VBP</td>\n",
       "      <td>lowercase</td>\n",
       "      <td>have</td>\n",
       "      <td>...</td>\n",
       "      <td>thousand</td>\n",
       "      <td>NNS</td>\n",
       "      <td>capitalized</td>\n",
       "      <td>Thousands</td>\n",
       "      <td>lowercase</td>\n",
       "      <td>of</td>\n",
       "      <td>1.0</td>\n",
       "      <td>lowercase</td>\n",
       "      <td>demonstrators</td>\n",
       "      <td>O</td>\n",
       "    </tr>\n",
       "    <tr>\n",
       "      <th>3</th>\n",
       "      <td>3</td>\n",
       "      <td>have</td>\n",
       "      <td>march</td>\n",
       "      <td>through</td>\n",
       "      <td>IN</td>\n",
       "      <td>lowercase</td>\n",
       "      <td>through</td>\n",
       "      <td>VBN</td>\n",
       "      <td>lowercase</td>\n",
       "      <td>marched</td>\n",
       "      <td>...</td>\n",
       "      <td>of</td>\n",
       "      <td>IN</td>\n",
       "      <td>lowercase</td>\n",
       "      <td>of</td>\n",
       "      <td>lowercase</td>\n",
       "      <td>demonstrators</td>\n",
       "      <td>1.0</td>\n",
       "      <td>lowercase</td>\n",
       "      <td>have</td>\n",
       "      <td>O</td>\n",
       "    </tr>\n",
       "    <tr>\n",
       "      <th>4</th>\n",
       "      <td>4</td>\n",
       "      <td>march</td>\n",
       "      <td>through</td>\n",
       "      <td>london</td>\n",
       "      <td>NNP</td>\n",
       "      <td>capitalized</td>\n",
       "      <td>London</td>\n",
       "      <td>IN</td>\n",
       "      <td>lowercase</td>\n",
       "      <td>through</td>\n",
       "      <td>...</td>\n",
       "      <td>demonstr</td>\n",
       "      <td>NNS</td>\n",
       "      <td>lowercase</td>\n",
       "      <td>demonstrators</td>\n",
       "      <td>lowercase</td>\n",
       "      <td>have</td>\n",
       "      <td>1.0</td>\n",
       "      <td>lowercase</td>\n",
       "      <td>marched</td>\n",
       "      <td>O</td>\n",
       "    </tr>\n",
       "    <tr>\n",
       "      <th>5</th>\n",
       "      <td>5</td>\n",
       "      <td>through</td>\n",
       "      <td>london</td>\n",
       "      <td>to</td>\n",
       "      <td>TO</td>\n",
       "      <td>lowercase</td>\n",
       "      <td>to</td>\n",
       "      <td>NNP</td>\n",
       "      <td>capitalized</td>\n",
       "      <td>London</td>\n",
       "      <td>...</td>\n",
       "      <td>have</td>\n",
       "      <td>VBP</td>\n",
       "      <td>lowercase</td>\n",
       "      <td>have</td>\n",
       "      <td>lowercase</td>\n",
       "      <td>marched</td>\n",
       "      <td>1.0</td>\n",
       "      <td>lowercase</td>\n",
       "      <td>through</td>\n",
       "      <td>O</td>\n",
       "    </tr>\n",
       "    <tr>\n",
       "      <th>6</th>\n",
       "      <td>6</td>\n",
       "      <td>london</td>\n",
       "      <td>to</td>\n",
       "      <td>protest</td>\n",
       "      <td>VB</td>\n",
       "      <td>lowercase</td>\n",
       "      <td>protest</td>\n",
       "      <td>TO</td>\n",
       "      <td>lowercase</td>\n",
       "      <td>to</td>\n",
       "      <td>...</td>\n",
       "      <td>march</td>\n",
       "      <td>VBN</td>\n",
       "      <td>lowercase</td>\n",
       "      <td>marched</td>\n",
       "      <td>lowercase</td>\n",
       "      <td>through</td>\n",
       "      <td>1.0</td>\n",
       "      <td>capitalized</td>\n",
       "      <td>London</td>\n",
       "      <td>B-geo</td>\n",
       "    </tr>\n",
       "    <tr>\n",
       "      <th>7</th>\n",
       "      <td>7</td>\n",
       "      <td>to</td>\n",
       "      <td>protest</td>\n",
       "      <td>the</td>\n",
       "      <td>DT</td>\n",
       "      <td>lowercase</td>\n",
       "      <td>the</td>\n",
       "      <td>VB</td>\n",
       "      <td>lowercase</td>\n",
       "      <td>protest</td>\n",
       "      <td>...</td>\n",
       "      <td>through</td>\n",
       "      <td>IN</td>\n",
       "      <td>lowercase</td>\n",
       "      <td>through</td>\n",
       "      <td>capitalized</td>\n",
       "      <td>London</td>\n",
       "      <td>1.0</td>\n",
       "      <td>lowercase</td>\n",
       "      <td>to</td>\n",
       "      <td>O</td>\n",
       "    </tr>\n",
       "    <tr>\n",
       "      <th>8</th>\n",
       "      <td>8</td>\n",
       "      <td>protest</td>\n",
       "      <td>the</td>\n",
       "      <td>war</td>\n",
       "      <td>NN</td>\n",
       "      <td>lowercase</td>\n",
       "      <td>war</td>\n",
       "      <td>DT</td>\n",
       "      <td>lowercase</td>\n",
       "      <td>the</td>\n",
       "      <td>...</td>\n",
       "      <td>london</td>\n",
       "      <td>NNP</td>\n",
       "      <td>capitalized</td>\n",
       "      <td>London</td>\n",
       "      <td>lowercase</td>\n",
       "      <td>to</td>\n",
       "      <td>1.0</td>\n",
       "      <td>lowercase</td>\n",
       "      <td>protest</td>\n",
       "      <td>O</td>\n",
       "    </tr>\n",
       "    <tr>\n",
       "      <th>9</th>\n",
       "      <td>9</td>\n",
       "      <td>the</td>\n",
       "      <td>war</td>\n",
       "      <td>in</td>\n",
       "      <td>IN</td>\n",
       "      <td>lowercase</td>\n",
       "      <td>in</td>\n",
       "      <td>NN</td>\n",
       "      <td>lowercase</td>\n",
       "      <td>war</td>\n",
       "      <td>...</td>\n",
       "      <td>to</td>\n",
       "      <td>TO</td>\n",
       "      <td>lowercase</td>\n",
       "      <td>to</td>\n",
       "      <td>lowercase</td>\n",
       "      <td>protest</td>\n",
       "      <td>1.0</td>\n",
       "      <td>lowercase</td>\n",
       "      <td>the</td>\n",
       "      <td>O</td>\n",
       "    </tr>\n",
       "    <tr>\n",
       "      <th>10</th>\n",
       "      <td>10</td>\n",
       "      <td>war</td>\n",
       "      <td>in</td>\n",
       "      <td>iraq</td>\n",
       "      <td>NNP</td>\n",
       "      <td>capitalized</td>\n",
       "      <td>Iraq</td>\n",
       "      <td>IN</td>\n",
       "      <td>lowercase</td>\n",
       "      <td>in</td>\n",
       "      <td>...</td>\n",
       "      <td>protest</td>\n",
       "      <td>VB</td>\n",
       "      <td>lowercase</td>\n",
       "      <td>protest</td>\n",
       "      <td>lowercase</td>\n",
       "      <td>the</td>\n",
       "      <td>1.0</td>\n",
       "      <td>lowercase</td>\n",
       "      <td>war</td>\n",
       "      <td>O</td>\n",
       "    </tr>\n",
       "    <tr>\n",
       "      <th>11</th>\n",
       "      <td>11</td>\n",
       "      <td>in</td>\n",
       "      <td>iraq</td>\n",
       "      <td>and</td>\n",
       "      <td>CC</td>\n",
       "      <td>lowercase</td>\n",
       "      <td>and</td>\n",
       "      <td>NNP</td>\n",
       "      <td>capitalized</td>\n",
       "      <td>Iraq</td>\n",
       "      <td>...</td>\n",
       "      <td>the</td>\n",
       "      <td>DT</td>\n",
       "      <td>lowercase</td>\n",
       "      <td>the</td>\n",
       "      <td>lowercase</td>\n",
       "      <td>war</td>\n",
       "      <td>1.0</td>\n",
       "      <td>lowercase</td>\n",
       "      <td>in</td>\n",
       "      <td>O</td>\n",
       "    </tr>\n",
       "    <tr>\n",
       "      <th>12</th>\n",
       "      <td>12</td>\n",
       "      <td>iraq</td>\n",
       "      <td>and</td>\n",
       "      <td>demand</td>\n",
       "      <td>VB</td>\n",
       "      <td>lowercase</td>\n",
       "      <td>demand</td>\n",
       "      <td>CC</td>\n",
       "      <td>lowercase</td>\n",
       "      <td>and</td>\n",
       "      <td>...</td>\n",
       "      <td>war</td>\n",
       "      <td>NN</td>\n",
       "      <td>lowercase</td>\n",
       "      <td>war</td>\n",
       "      <td>lowercase</td>\n",
       "      <td>in</td>\n",
       "      <td>1.0</td>\n",
       "      <td>capitalized</td>\n",
       "      <td>Iraq</td>\n",
       "      <td>B-geo</td>\n",
       "    </tr>\n",
       "    <tr>\n",
       "      <th>13</th>\n",
       "      <td>13</td>\n",
       "      <td>and</td>\n",
       "      <td>demand</td>\n",
       "      <td>the</td>\n",
       "      <td>DT</td>\n",
       "      <td>lowercase</td>\n",
       "      <td>the</td>\n",
       "      <td>VB</td>\n",
       "      <td>lowercase</td>\n",
       "      <td>demand</td>\n",
       "      <td>...</td>\n",
       "      <td>in</td>\n",
       "      <td>IN</td>\n",
       "      <td>lowercase</td>\n",
       "      <td>in</td>\n",
       "      <td>capitalized</td>\n",
       "      <td>Iraq</td>\n",
       "      <td>1.0</td>\n",
       "      <td>lowercase</td>\n",
       "      <td>and</td>\n",
       "      <td>O</td>\n",
       "    </tr>\n",
       "    <tr>\n",
       "      <th>14</th>\n",
       "      <td>14</td>\n",
       "      <td>demand</td>\n",
       "      <td>the</td>\n",
       "      <td>withdraw</td>\n",
       "      <td>NN</td>\n",
       "      <td>lowercase</td>\n",
       "      <td>withdrawal</td>\n",
       "      <td>DT</td>\n",
       "      <td>lowercase</td>\n",
       "      <td>the</td>\n",
       "      <td>...</td>\n",
       "      <td>iraq</td>\n",
       "      <td>NNP</td>\n",
       "      <td>capitalized</td>\n",
       "      <td>Iraq</td>\n",
       "      <td>lowercase</td>\n",
       "      <td>and</td>\n",
       "      <td>1.0</td>\n",
       "      <td>lowercase</td>\n",
       "      <td>demand</td>\n",
       "      <td>O</td>\n",
       "    </tr>\n",
       "    <tr>\n",
       "      <th>15</th>\n",
       "      <td>15</td>\n",
       "      <td>the</td>\n",
       "      <td>withdraw</td>\n",
       "      <td>of</td>\n",
       "      <td>IN</td>\n",
       "      <td>lowercase</td>\n",
       "      <td>of</td>\n",
       "      <td>NN</td>\n",
       "      <td>lowercase</td>\n",
       "      <td>withdrawal</td>\n",
       "      <td>...</td>\n",
       "      <td>and</td>\n",
       "      <td>CC</td>\n",
       "      <td>lowercase</td>\n",
       "      <td>and</td>\n",
       "      <td>lowercase</td>\n",
       "      <td>demand</td>\n",
       "      <td>1.0</td>\n",
       "      <td>lowercase</td>\n",
       "      <td>the</td>\n",
       "      <td>O</td>\n",
       "    </tr>\n",
       "    <tr>\n",
       "      <th>16</th>\n",
       "      <td>16</td>\n",
       "      <td>withdraw</td>\n",
       "      <td>of</td>\n",
       "      <td>british</td>\n",
       "      <td>JJ</td>\n",
       "      <td>capitalized</td>\n",
       "      <td>British</td>\n",
       "      <td>IN</td>\n",
       "      <td>lowercase</td>\n",
       "      <td>of</td>\n",
       "      <td>...</td>\n",
       "      <td>demand</td>\n",
       "      <td>VB</td>\n",
       "      <td>lowercase</td>\n",
       "      <td>demand</td>\n",
       "      <td>lowercase</td>\n",
       "      <td>the</td>\n",
       "      <td>1.0</td>\n",
       "      <td>lowercase</td>\n",
       "      <td>withdrawal</td>\n",
       "      <td>O</td>\n",
       "    </tr>\n",
       "    <tr>\n",
       "      <th>17</th>\n",
       "      <td>17</td>\n",
       "      <td>of</td>\n",
       "      <td>british</td>\n",
       "      <td>troop</td>\n",
       "      <td>NNS</td>\n",
       "      <td>lowercase</td>\n",
       "      <td>troops</td>\n",
       "      <td>JJ</td>\n",
       "      <td>capitalized</td>\n",
       "      <td>British</td>\n",
       "      <td>...</td>\n",
       "      <td>the</td>\n",
       "      <td>DT</td>\n",
       "      <td>lowercase</td>\n",
       "      <td>the</td>\n",
       "      <td>lowercase</td>\n",
       "      <td>withdrawal</td>\n",
       "      <td>1.0</td>\n",
       "      <td>lowercase</td>\n",
       "      <td>of</td>\n",
       "      <td>O</td>\n",
       "    </tr>\n",
       "    <tr>\n",
       "      <th>18</th>\n",
       "      <td>18</td>\n",
       "      <td>british</td>\n",
       "      <td>troop</td>\n",
       "      <td>from</td>\n",
       "      <td>IN</td>\n",
       "      <td>lowercase</td>\n",
       "      <td>from</td>\n",
       "      <td>NNS</td>\n",
       "      <td>lowercase</td>\n",
       "      <td>troops</td>\n",
       "      <td>...</td>\n",
       "      <td>withdraw</td>\n",
       "      <td>NN</td>\n",
       "      <td>lowercase</td>\n",
       "      <td>withdrawal</td>\n",
       "      <td>lowercase</td>\n",
       "      <td>of</td>\n",
       "      <td>1.0</td>\n",
       "      <td>capitalized</td>\n",
       "      <td>British</td>\n",
       "      <td>B-gpe</td>\n",
       "    </tr>\n",
       "    <tr>\n",
       "      <th>19</th>\n",
       "      <td>19</td>\n",
       "      <td>troop</td>\n",
       "      <td>from</td>\n",
       "      <td>that</td>\n",
       "      <td>DT</td>\n",
       "      <td>lowercase</td>\n",
       "      <td>that</td>\n",
       "      <td>IN</td>\n",
       "      <td>lowercase</td>\n",
       "      <td>from</td>\n",
       "      <td>...</td>\n",
       "      <td>of</td>\n",
       "      <td>IN</td>\n",
       "      <td>lowercase</td>\n",
       "      <td>of</td>\n",
       "      <td>capitalized</td>\n",
       "      <td>British</td>\n",
       "      <td>1.0</td>\n",
       "      <td>lowercase</td>\n",
       "      <td>troops</td>\n",
       "      <td>O</td>\n",
       "    </tr>\n",
       "  </tbody>\n",
       "</table>\n",
       "<p>20 rows × 25 columns</p>\n",
       "</div>"
      ],
      "text/plain": [
       "    id     lemma next-lemma next-next-lemma next-next-pos next-next-shape  \\\n",
       "0    0  thousand         of        demonstr           NNS       lowercase   \n",
       "1    1        of   demonstr            have           VBP       lowercase   \n",
       "2    2  demonstr       have           march           VBN       lowercase   \n",
       "3    3      have      march         through            IN       lowercase   \n",
       "4    4     march    through          london           NNP     capitalized   \n",
       "5    5   through     london              to            TO       lowercase   \n",
       "6    6    london         to         protest            VB       lowercase   \n",
       "7    7        to    protest             the            DT       lowercase   \n",
       "8    8   protest        the             war            NN       lowercase   \n",
       "9    9       the        war              in            IN       lowercase   \n",
       "10  10       war         in            iraq           NNP     capitalized   \n",
       "11  11        in       iraq             and            CC       lowercase   \n",
       "12  12      iraq        and          demand            VB       lowercase   \n",
       "13  13       and     demand             the            DT       lowercase   \n",
       "14  14    demand        the        withdraw            NN       lowercase   \n",
       "15  15       the   withdraw              of            IN       lowercase   \n",
       "16  16  withdraw         of         british            JJ     capitalized   \n",
       "17  17        of    british           troop           NNS       lowercase   \n",
       "18  18   british      troop            from            IN       lowercase   \n",
       "19  19     troop       from            that            DT       lowercase   \n",
       "\n",
       "   next-next-word next-pos   next-shape      next-word  ... prev-prev-lemma  \\\n",
       "0   demonstrators       IN    lowercase             of  ...      __start2__   \n",
       "1            have      NNS    lowercase  demonstrators  ...      __start1__   \n",
       "2         marched      VBP    lowercase           have  ...        thousand   \n",
       "3         through      VBN    lowercase        marched  ...              of   \n",
       "4          London       IN    lowercase        through  ...        demonstr   \n",
       "5              to      NNP  capitalized         London  ...            have   \n",
       "6         protest       TO    lowercase             to  ...           march   \n",
       "7             the       VB    lowercase        protest  ...         through   \n",
       "8             war       DT    lowercase            the  ...          london   \n",
       "9              in       NN    lowercase            war  ...              to   \n",
       "10           Iraq       IN    lowercase             in  ...         protest   \n",
       "11            and      NNP  capitalized           Iraq  ...             the   \n",
       "12         demand       CC    lowercase            and  ...             war   \n",
       "13            the       VB    lowercase         demand  ...              in   \n",
       "14     withdrawal       DT    lowercase            the  ...            iraq   \n",
       "15             of       NN    lowercase     withdrawal  ...             and   \n",
       "16        British       IN    lowercase             of  ...          demand   \n",
       "17         troops       JJ  capitalized        British  ...             the   \n",
       "18           from      NNS    lowercase         troops  ...        withdraw   \n",
       "19           that       IN    lowercase           from  ...              of   \n",
       "\n",
       "   prev-prev-pos prev-prev-shape prev-prev-word   prev-shape      prev-word  \\\n",
       "0     __START2__        wildcard     __START2__     wildcard     __START1__   \n",
       "1     __START1__        wildcard     __START1__  capitalized      Thousands   \n",
       "2            NNS     capitalized      Thousands    lowercase             of   \n",
       "3             IN       lowercase             of    lowercase  demonstrators   \n",
       "4            NNS       lowercase  demonstrators    lowercase           have   \n",
       "5            VBP       lowercase           have    lowercase        marched   \n",
       "6            VBN       lowercase        marched    lowercase        through   \n",
       "7             IN       lowercase        through  capitalized         London   \n",
       "8            NNP     capitalized         London    lowercase             to   \n",
       "9             TO       lowercase             to    lowercase        protest   \n",
       "10            VB       lowercase        protest    lowercase            the   \n",
       "11            DT       lowercase            the    lowercase            war   \n",
       "12            NN       lowercase            war    lowercase             in   \n",
       "13            IN       lowercase             in  capitalized           Iraq   \n",
       "14           NNP     capitalized           Iraq    lowercase            and   \n",
       "15            CC       lowercase            and    lowercase         demand   \n",
       "16            VB       lowercase         demand    lowercase            the   \n",
       "17            DT       lowercase            the    lowercase     withdrawal   \n",
       "18            NN       lowercase     withdrawal    lowercase             of   \n",
       "19            IN       lowercase             of  capitalized        British   \n",
       "\n",
       "   sentence_idx        shape           word    tag  \n",
       "0           1.0  capitalized      Thousands      O  \n",
       "1           1.0    lowercase             of      O  \n",
       "2           1.0    lowercase  demonstrators      O  \n",
       "3           1.0    lowercase           have      O  \n",
       "4           1.0    lowercase        marched      O  \n",
       "5           1.0    lowercase        through      O  \n",
       "6           1.0  capitalized         London  B-geo  \n",
       "7           1.0    lowercase             to      O  \n",
       "8           1.0    lowercase        protest      O  \n",
       "9           1.0    lowercase            the      O  \n",
       "10          1.0    lowercase            war      O  \n",
       "11          1.0    lowercase             in      O  \n",
       "12          1.0  capitalized           Iraq  B-geo  \n",
       "13          1.0    lowercase            and      O  \n",
       "14          1.0    lowercase         demand      O  \n",
       "15          1.0    lowercase            the      O  \n",
       "16          1.0    lowercase     withdrawal      O  \n",
       "17          1.0    lowercase             of      O  \n",
       "18          1.0  capitalized        British  B-gpe  \n",
       "19          1.0    lowercase         troops      O  \n",
       "\n",
       "[20 rows x 25 columns]"
      ]
     },
     "execution_count": 80,
     "metadata": {},
     "output_type": "execute_result"
    }
   ],
   "source": [
    "df_train.head(20)"
   ]
  },
  {
   "cell_type": "code",
   "execution_count": 27,
   "metadata": {},
   "outputs": [
    {
     "name": "stdout",
     "output_type": "stream",
     "text": [
      "Index(['id', 'lemma', 'next-lemma', 'next-next-lemma', 'next-next-pos',\n",
      "       'next-next-shape', 'next-next-word', 'next-pos', 'next-shape',\n",
      "       'next-word', 'pos', 'prev-iob', 'prev-lemma', 'prev-pos',\n",
      "       'prev-prev-iob', 'prev-prev-lemma', 'prev-prev-pos', 'prev-prev-shape',\n",
      "       'prev-prev-word', 'prev-shape', 'prev-word', 'sentence_idx', 'shape',\n",
      "       'word', 'tag'],\n",
      "      dtype='object')\n"
     ]
    }
   ],
   "source": [
    "print(df_train.columns)\n"
   ]
  },
  {
   "cell_type": "code",
   "execution_count": 87,
   "metadata": {},
   "outputs": [],
   "source": [
    "# TRAINING SET\n",
    "training_features = []\n",
    "training_gold_labels = []\n",
    "\n",
    "columns_to_exclude = ['id', 'tag', 'next-next-lemma', 'next-next-pos', 'next-next-shape', 'next-next-word', 'prev-prev-lemma', 'prev-prev-pos', 'prev-prev-shape', 'prev-prev-word', 'sentence_idx',]\n",
    "training_gold_labels = df_train['tag'].tolist()\n",
    "columns = [x for x in df_train.columns if x not in columns_to_exclude]\n",
    "\n",
    "training_features = df_train[columns].to_dict('records')\n",
    "\n",
    "# TEST SET \n",
    "test_features = []\n",
    "test_gold_labels = []\n",
    "\n",
    "columns_to_exclude = ['tag']\n",
    "test_gold_labels = df_test['tag'].tolist()\n",
    "columns = [x for x in df_test.columns if x not in columns_to_exclude]\n",
    "\n",
    "test_features = df_test[columns].to_dict('records')\n"
   ]
  },
  {
   "cell_type": "code",
   "execution_count": 88,
   "metadata": {},
   "outputs": [],
   "source": [
    "# DICT VECTORIZER\n",
    "\n",
    "all_features = training_features.copy()\n",
    "all_features.extend(test_features)\n",
    "\n",
    "vec = DictVectorizer()\n",
    "the_array = vec.fit_transform(all_features)\n",
    "# print(the_array.shape)\n",
    "\n",
    "vec_training_features = the_array[:len(training_features)]\n",
    "vec_test_features = the_array[len(training_features):]\n",
    "\n",
    "# print(len(vec_training_features.toarray()))\n",
    "# print(len(vec_test_features.toarray()))"
   ]
  },
  {
   "cell_type": "markdown",
   "metadata": {},
   "source": [
    "**[4 points] b. Train and evaluate the model and provide the classification report:**\n",
    "* use the SVM to predict NERC labels on the test data\n",
    "* evaluate the performance of the SVM on the test data\n",
    "\n",
    "Analyze the performance per NERC label."
   ]
  },
  {
   "cell_type": "markdown",
   "metadata": {},
   "source": [
    "**Text answer to exercise 2 (b):**\n",
    "\n",
    "For B-art and I-art, we can see that there are very little to no instances, leading to very low scores overall (in fact, the F1 score is 0 for these). The same goes for B-eve, this one also having no instances in the training data.\n",
    "\n",
    "We can see that all of B-geo, B-gpe, B-tim, I-geo, I-gpe, I-nat, I-org, I- tim and finally '0' perform above 80% in the F1-score column. We also see that generally, the I part of each label outperforms its B-counterpart. This makes sense, since a NE that has more than one word to it, is easier to distinguish as they have more information to give, whereas a singular word could have no information in its context.\n",
    "\n",
    "Furthermore, we see that specifically B-nat, B-per and B-org underperform, having an F1-score of lower than 81% (77, 80 and 71 percent respectively). We also see a large disparity between the B and I counterparts here. This could very well be due to the fact that when used as a singular word, a lot of information is lost (if you knew nothing about the Missisipi, it would be easier to recognize it as a natural phenomenon if it  was called 'the Missisipi River' rather than 'the Missisipi'. River gives a lot of information here, but the latter example could also be used in a text). We think that the lower performance could be due to the fact that to a computer, these words all look alike -> Missisipi could very well be a name of a person, and Olivia could very well be the name of some organization. Thus, a lot of context is needed to guess these words, which the model in this case does not have (only the words directly around the instance it is labeling).\n",
    "\n",
    "Finally, we have the '0'  label. Most of the data consists of these words. Thus, the model has a lot of information on these words and can accurately guess them.\n",
    "\n"
   ]
  },
  {
   "cell_type": "code",
   "execution_count": 89,
   "metadata": {},
   "outputs": [
    {
     "name": "stderr",
     "output_type": "stream",
     "text": [
      "/Library/Frameworks/Python.framework/Versions/3.12/lib/python3.12/site-packages/sklearn/svm/_classes.py:31: FutureWarning: The default value of `dual` will change from `True` to `'auto'` in 1.5. Set the value of `dual` explicitly to suppress the warning.\n",
      "  warnings.warn(\n"
     ]
    },
    {
     "name": "stdout",
     "output_type": "stream",
     "text": [
      "              precision    recall  f1-score   support\n",
      "\n",
      "       B-art       0.00      0.00      0.00         4\n",
      "       B-eve       0.00      0.00      0.00         0\n",
      "       B-geo       0.87      0.87      0.87       741\n",
      "       B-gpe       0.90      0.94      0.92       296\n",
      "       B-nat       1.00      0.62      0.77         8\n",
      "       B-org       0.75      0.67      0.71       397\n",
      "       B-per       0.81      0.80      0.80       333\n",
      "       B-tim       0.95      0.84      0.89       393\n",
      "       I-art       0.00      0.00      0.00         0\n",
      "       I-geo       0.97      0.98      0.98       156\n",
      "       I-gpe       1.00      1.00      1.00         2\n",
      "       I-nat       1.00      1.00      1.00         4\n",
      "       I-org       0.95      0.94      0.94       321\n",
      "       I-per       0.96      0.98      0.97       319\n",
      "       I-tim       0.93      0.85      0.89       108\n",
      "           O       0.99      0.99      0.99     16918\n",
      "\n",
      "    accuracy                           0.97     20000\n",
      "   macro avg       0.75      0.72      0.73     20000\n",
      "weighted avg       0.97      0.97      0.97     20000\n",
      "\n"
     ]
    },
    {
     "name": "stderr",
     "output_type": "stream",
     "text": [
      "/Library/Frameworks/Python.framework/Versions/3.12/lib/python3.12/site-packages/sklearn/metrics/_classification.py:1497: UndefinedMetricWarning: Recall is ill-defined and being set to 0.0 in labels with no true samples. Use `zero_division` parameter to control this behavior.\n",
      "  _warn_prf(average, modifier, f\"{metric.capitalize()} is\", len(result))\n",
      "/Library/Frameworks/Python.framework/Versions/3.12/lib/python3.12/site-packages/sklearn/metrics/_classification.py:1497: UndefinedMetricWarning: Recall is ill-defined and being set to 0.0 in labels with no true samples. Use `zero_division` parameter to control this behavior.\n",
      "  _warn_prf(average, modifier, f\"{metric.capitalize()} is\", len(result))\n",
      "/Library/Frameworks/Python.framework/Versions/3.12/lib/python3.12/site-packages/sklearn/metrics/_classification.py:1497: UndefinedMetricWarning: Recall is ill-defined and being set to 0.0 in labels with no true samples. Use `zero_division` parameter to control this behavior.\n",
      "  _warn_prf(average, modifier, f\"{metric.capitalize()} is\", len(result))\n"
     ]
    }
   ],
   "source": [
    "lin_clf = svm.LinearSVC()\n",
    "\n",
    "# Train the SVM model\n",
    "lin_clf.fit(vec_training_features, training_gold_labels)\n",
    "predicted_labels = lin_clf.predict(vec_test_features)\n",
    "\n",
    "report = classification_report(test_gold_labels, predicted_labels)\n",
    "\n",
    "print(report)\n"
   ]
  },
  {
   "cell_type": "markdown",
   "metadata": {},
   "source": [
    "## End of this notebook"
   ]
  }
 ],
 "metadata": {
  "kernelspec": {
   "display_name": "Python 3",
   "language": "python",
   "name": "python3"
  },
  "language_info": {
   "codemirror_mode": {
    "name": "ipython",
    "version": 3
   },
   "file_extension": ".py",
   "mimetype": "text/x-python",
   "name": "python",
   "nbconvert_exporter": "python",
   "pygments_lexer": "ipython3",
   "version": "3.12.1"
  }
 },
 "nbformat": 4,
 "nbformat_minor": 4
}
