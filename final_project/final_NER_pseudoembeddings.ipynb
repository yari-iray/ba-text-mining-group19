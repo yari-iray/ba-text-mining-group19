{
 "cells": [
  {
   "cell_type": "code",
   "execution_count": 35,
   "metadata": {},
   "outputs": [],
   "source": [
    "import numpy as np\n",
    "import matplotlib.pyplot as plt\n",
    "import pandas as pd\n",
    "import sklearn as sk\n",
    "import nltk\n",
    "from datasets import load_dataset\n",
    "import json\n",
    "\n",
    "dataset = load_dataset(\"tner/ontonotes5\")\n",
    "ontonotes5_train_dataset = pd.DataFrame(dataset['train'])\n",
    "\n",
    "# Read the JSON file\n",
    "with open('dataset_label.json', 'r') as file:\n",
    "    labels = json.load(file)"
   ]
  },
  {
   "cell_type": "code",
   "execution_count": 36,
   "metadata": {},
   "outputs": [],
   "source": [
    "labels = { v:k for k,v in labels.items() }\n",
    "\n",
    "training_tokens = []\n",
    "\n",
    "for row in ontonotes5_train_dataset.iterrows():\n",
    "    zipped = list(zip(row[1]['tokens'], row[1]['tags']))\n",
    "    \n",
    "    for item in zipped:\n",
    "        training_tokens.append((item[0], labels[item[1]], nltk.pos_tag([item[0]])[0][1]))\n",
    "\n",
    "# print(training_tokens[0:10])"
   ]
  },
  {
   "cell_type": "code",
   "execution_count": 37,
   "metadata": {},
   "outputs": [
    {
     "data": {
      "text/html": [
       "<div>\n",
       "<style scoped>\n",
       "    .dataframe tbody tr th:only-of-type {\n",
       "        vertical-align: middle;\n",
       "    }\n",
       "\n",
       "    .dataframe tbody tr th {\n",
       "        vertical-align: top;\n",
       "    }\n",
       "\n",
       "    .dataframe thead th {\n",
       "        text-align: right;\n",
       "    }\n",
       "</style>\n",
       "<table border=\"1\" class=\"dataframe\">\n",
       "  <thead>\n",
       "    <tr style=\"text-align: right;\">\n",
       "      <th></th>\n",
       "      <th>sentence id</th>\n",
       "      <th>token id</th>\n",
       "      <th>token</th>\n",
       "      <th>BIO NER tag</th>\n",
       "      <th>POS</th>\n",
       "    </tr>\n",
       "  </thead>\n",
       "  <tbody>\n",
       "    <tr>\n",
       "      <th>0</th>\n",
       "      <td>0</td>\n",
       "      <td>0</td>\n",
       "      <td>I</td>\n",
       "      <td>O</td>\n",
       "      <td>PRP</td>\n",
       "    </tr>\n",
       "    <tr>\n",
       "      <th>1</th>\n",
       "      <td>0</td>\n",
       "      <td>1</td>\n",
       "      <td>would</td>\n",
       "      <td>O</td>\n",
       "      <td>MD</td>\n",
       "    </tr>\n",
       "    <tr>\n",
       "      <th>2</th>\n",
       "      <td>0</td>\n",
       "      <td>2</td>\n",
       "      <td>n't</td>\n",
       "      <td>O</td>\n",
       "      <td>RB</td>\n",
       "    </tr>\n",
       "    <tr>\n",
       "      <th>3</th>\n",
       "      <td>0</td>\n",
       "      <td>3</td>\n",
       "      <td>be</td>\n",
       "      <td>O</td>\n",
       "      <td>VB</td>\n",
       "    </tr>\n",
       "    <tr>\n",
       "      <th>4</th>\n",
       "      <td>0</td>\n",
       "      <td>4</td>\n",
       "      <td>caught</td>\n",
       "      <td>O</td>\n",
       "      <td>NN</td>\n",
       "    </tr>\n",
       "  </tbody>\n",
       "</table>\n",
       "</div>"
      ],
      "text/plain": [
       "   sentence id  token id   token BIO NER tag  POS\n",
       "0            0         0       I           O  PRP\n",
       "1            0         1   would           O   MD\n",
       "2            0         2     n't           O   RB\n",
       "3            0         3      be           O   VB\n",
       "4            0         4  caught           O   NN"
      ]
     },
     "execution_count": 37,
     "metadata": {},
     "output_type": "execute_result"
    }
   ],
   "source": [
    "df_ner_test = pd.read_csv('data/ner-test.tsv', delimiter='\\t')\n",
    "\n",
    "# adding POS tags\n",
    "def pos_tagging(token):\n",
    "    return nltk.pos_tag([token])[0][1]\n",
    "\n",
    "df_ner_test['POS'] = df_ner_test['token'].apply(pos_tagging)\n",
    "df_ner_test.head()"
   ]
  },
  {
   "cell_type": "markdown",
   "metadata": {},
   "source": [
    "**Added the NLTK pos_tags to the test set because they are a useful feature for NERC.**"
   ]
  },
  {
   "cell_type": "code",
   "execution_count": 55,
   "metadata": {},
   "outputs": [],
   "source": [
    "test_features = []\n",
    "test_gold_labels = []\n",
    "\n",
    "test_words = df_ner_test.iterrows()\n",
    "for i, row in test_words:\n",
    "    token: str = row['token']\n",
    "    \n",
    "    a_dict = {\n",
    "        'word': token,                # the word itself\n",
    "        'pos': row['POS'],                   # the part of speech\n",
    "        'word[-3:]': token[-3:],      # the last three characters of the word\n",
    "        'word[-2:]': token[-2:],      # the last two characters of the word\n",
    "        'upper': token[0].isupper(),  # whether the first letter is uppercase\n",
    "        'title': token.istitle(),      # whether the word is titlecased \n",
    "        'prev-word': \"!NEWSENTENCE\",    # Previous word.\n",
    "        'prev-pos': \"!NEWSENTENCE\",     # Previous POS tag\n",
    "        'prev-upper': \"!NEWSENTENCE\",   # Previous word is uppercase\n",
    "        'prev-title': \"!NEWSENTENCE\",   # Previous word is titlecased\n",
    "                                 \n",
    "        # 'upper' and 'lower' will be slightly different because\n",
    "        # of words like 'EU'\n",
    "    }\n",
    "    \n",
    "    #If we have a previous word, add it to the features list to improve NERC\n",
    "    if i > 0:\n",
    "        # only get previous word if they're part of the same sentence\n",
    "        prev_row = df_ner_test.iloc[i - 1]\n",
    "        \n",
    "        if prev_row['sentence id'] == row['sentence id']:\n",
    "            a_dict['prev-word'] = prev_row['token']\n",
    "            a_dict['prev-pos'] = prev_row['POS']\n",
    "            a_dict['prev-upper'] = prev_row['token'][0].isupper()\n",
    "            a_dict['prev-title'] = prev_row['token'].istitle()\n",
    "\n",
    "    test_features.append(a_dict)\n",
    "    test_gold_labels.append(row['BIO NER tag'])\n"
   ]
  },
  {
   "cell_type": "code",
   "execution_count": 56,
   "metadata": {},
   "outputs": [],
   "source": [
    "training_features = []\n",
    "training_gold_labels = []\n",
    "\n",
    "for i, (token, ne_label, pos) in enumerate(training_tokens):\n",
    "   if token == '' or token == 'DOCSTART':\n",
    "      continue\n",
    "   \n",
    "   a_dict = {\n",
    "      'word': token,                # the word itself\n",
    "      'pos': pos,                   # the part of speech\n",
    "      'word[-3:]': token[-3:],      # the last three characters of the word\n",
    "      'word[-2:]': token[-2:],      # the last two characters of the word\n",
    "      'upper': token[0].isupper(),  # whether the first letter is uppercase\n",
    "      'title': token.istitle(),     # whether the word is titlecased \n",
    "      'prev-word': \"!NEWSENTENCE\",       # the previous word (!NEWSENTENCE if it's the first word)\n",
    "      'prev-pos': \"!NEWSENTENCE\",        # the previous POS tag (!NEWSENTENCE if it's the first word)\n",
    "      'prev-upper': \"!NEWSENTENCE\",      # whether the previous word is uppercase (!NEWSENTENCE if it's the first word)\n",
    "      'prev-title': \"!NEWSENTENCE\"       # whether the previous word is titlecased (!NEWSENTENCE if it's the first word)\n",
    "   }\n",
    "   \n",
    "   # If the sentence is not ending\n",
    "   if i > 0:\n",
    "      prev_token = training_tokens[i - 1][0]\n",
    "      if prev_token != '.':\n",
    "         a_dict['prev-word'] = prev_token\n",
    "         a_dict['prev-pos'] = training_features[i-1]['pos']\n",
    "         a_dict['prev-upper'] = prev_token[0].isupper()\n",
    "         a_dict['prev-title'] = prev_token.istitle()\n",
    "      \n",
    "\n",
    "   training_features.append(a_dict)\n",
    "   training_gold_labels.append(ne_label)"
   ]
  },
  {
   "cell_type": "code",
   "execution_count": 57,
   "metadata": {},
   "outputs": [
    {
     "name": "stdout",
     "output_type": "stream",
     "text": [
      "Count labels in the training set: \n"
     ]
    },
    {
     "data": {
      "text/plain": [
       "Counter({'O': 939111,\n",
       "         'I-ORG': 18246,\n",
       "         'B-PERSON': 15429,\n",
       "         'B-GPE': 15405,\n",
       "         'I-DATE': 13333,\n",
       "         'B-ORG': 12820,\n",
       "         'I-PERSON': 11147,\n",
       "         'B-DATE': 10922,\n",
       "         'B-CARDINAL': 7355,\n",
       "         'B-NORP': 6870,\n",
       "         'I-MONEY': 4912,\n",
       "         'I-GPE': 3679,\n",
       "         'I-PERCENT': 2498,\n",
       "         'B-MONEY': 2411,\n",
       "         'I-WORK_OF_ART': 2400,\n",
       "         'I-CARDINAL': 2289,\n",
       "         'B-PERCENT': 1763,\n",
       "         'B-ORDINAL': 1640,\n",
       "         'I-EVENT': 1605,\n",
       "         'B-LOC': 1514,\n",
       "         'I-TIME': 1507,\n",
       "         'I-FAC': 1467,\n",
       "         'I-LOC': 1395,\n",
       "         'I-QUANTITY': 1235,\n",
       "         'B-TIME': 1233,\n",
       "         'B-WORK_OF_ART': 974,\n",
       "         'B-FAC': 860,\n",
       "         'I-LAW': 785,\n",
       "         'B-EVENT': 748,\n",
       "         'B-QUANTITY': 657,\n",
       "         'B-PRODUCT': 606,\n",
       "         'I-PRODUCT': 576,\n",
       "         'I-NORP': 446,\n",
       "         'B-LANGUAGE': 304,\n",
       "         'B-LAW': 282,\n",
       "         'I-LANGUAGE': 13,\n",
       "         'I-ORDINAL': 5})"
      ]
     },
     "execution_count": 57,
     "metadata": {},
     "output_type": "execute_result"
    }
   ],
   "source": [
    "from collections import Counter\n",
    "print('Count labels in the training set: ')\n",
    "Counter(training_tokens[i][1] for i in range(len(training_tokens)))\n"
   ]
  },
  {
   "cell_type": "code",
   "execution_count": 58,
   "metadata": {},
   "outputs": [
    {
     "name": "stdout",
     "output_type": "stream",
     "text": [
      "Count labels in the test set: \n"
     ]
    },
    {
     "data": {
      "text/plain": [
       "Counter({'O': 160,\n",
       "         'I-WORK_OF_ART': 9,\n",
       "         'B-PERSON': 6,\n",
       "         'I-ORG': 6,\n",
       "         'B-WORK_OF_ART': 4,\n",
       "         'B-ORG': 3,\n",
       "         'I-PERSON': 3,\n",
       "         'B-DATE': 1,\n",
       "         'I-DATE': 1})"
      ]
     },
     "execution_count": 58,
     "metadata": {},
     "output_type": "execute_result"
    }
   ],
   "source": [
    "print('Count labels in the test set: ')\n",
    "Counter(df_ner_test['BIO NER tag'])"
   ]
  },
  {
   "cell_type": "code",
   "execution_count": 59,
   "metadata": {},
   "outputs": [
    {
     "name": "stdout",
     "output_type": "stream",
     "text": [
      "NaNs IN TRAINING FEATURES\n",
      "word 0\n",
      "pos 0\n",
      "word[-3:] 0\n",
      "word[-2:] 0\n",
      "upper 0\n",
      "title 0\n",
      "prev-word 0\n",
      "prev-pos 0\n",
      "prev-upper 0\n",
      "prev-title 0\n",
      "\n",
      "NaNs IN TEST FEATURES\n",
      "word 0\n",
      "pos 0\n",
      "word[-3:] 0\n",
      "word[-2:] 0\n",
      "upper 0\n",
      "title 0\n",
      "prev-word 0\n",
      "prev-pos 0\n",
      "prev-upper 0\n",
      "prev-title 0\n"
     ]
    }
   ],
   "source": [
    "# count nans in training_features\n",
    "print(\"NaNs IN TRAINING FEATURES\")\n",
    "for key in training_features[0].keys():\n",
    "    print(key, sum(1 for i in training_features if i[key] is None))\n",
    "\n",
    "print(\"\\nNaNs IN TEST FEATURES\")\n",
    "for key in test_features[0].keys():\n",
    "    print(key, sum(1 for i in test_features if i[key] is None))"
   ]
  },
  {
   "cell_type": "code",
   "execution_count": 60,
   "metadata": {},
   "outputs": [
    {
     "data": {
      "text/plain": [
       "(1088442, 193)"
      ]
     },
     "execution_count": 60,
     "metadata": {},
     "output_type": "execute_result"
    }
   ],
   "source": [
    "# SHORT TRAINING DATA FOR DEBUGGING\n",
    "active = False # Set to True to make SVM sonic the hedgehog but also terrible\n",
    "\n",
    "def debugging(features, labels, active):\n",
    "    if active:\n",
    "        return features[:5000], labels[:5000]\n",
    "    else:\n",
    "        return features, labels\n",
    "\n",
    "training_features, training_gold_labels = debugging(training_features, training_gold_labels, active)\n",
    "len(training_features), len(test_features)"
   ]
  },
  {
   "cell_type": "code",
   "execution_count": 61,
   "metadata": {},
   "outputs": [
    {
     "name": "stdout",
     "output_type": "stream",
     "text": [
      "(1088635, 89878)\n",
      "(1088442, 89878) (193, 89878)\n"
     ]
    }
   ],
   "source": [
    "from sklearn.feature_extraction import DictVectorizer\n",
    "\n",
    "# Concat all features\n",
    "all_features = training_features.copy()\n",
    "all_features.extend(test_features)\n",
    "\n",
    "vec = DictVectorizer()\n",
    "the_array = vec.fit_transform(all_features)\n",
    "print(the_array.shape)\n",
    "\n",
    "vec_training_features = the_array[:len(training_features)]\n",
    "vec_test_features = the_array[len(training_features):]\n",
    "\n",
    "print(vec_training_features.shape, vec_test_features.shape)"
   ]
  },
  {
   "cell_type": "markdown",
   "metadata": {},
   "source": [
    "**NEW SVM WITH PSEUDO-EMBEDDINGS**"
   ]
  },
  {
   "cell_type": "code",
   "execution_count": 62,
   "metadata": {},
   "outputs": [
    {
     "name": "stderr",
     "output_type": "stream",
     "text": [
      "/Library/Frameworks/Python.framework/Versions/3.12/lib/python3.12/site-packages/sklearn/svm/_classes.py:31: FutureWarning: The default value of `dual` will change from `True` to `'auto'` in 1.5. Set the value of `dual` explicitly to suppress the warning.\n",
      "  warnings.warn(\n"
     ]
    },
    {
     "name": "stdout",
     "output_type": "stream",
     "text": [
      "               precision    recall  f1-score   support\n",
      "\n",
      "       B-DATE       1.00      1.00      1.00         1\n",
      "        B-ORG       1.00      0.67      0.80         3\n",
      "     B-PERSON       1.00      1.00      1.00         6\n",
      "B-WORK_OF_ART       1.00      0.25      0.40         4\n",
      "       I-DATE       0.50      1.00      0.67         1\n",
      "        I-ORG       0.50      0.17      0.25         6\n",
      "     I-PERSON       1.00      0.67      0.80         3\n",
      "I-WORK_OF_ART       0.00      0.00      0.00         9\n",
      "            O       0.92      0.99      0.96       160\n",
      "\n",
      "    micro avg       0.92      0.90      0.91       193\n",
      "    macro avg       0.77      0.64      0.65       193\n",
      " weighted avg       0.87      0.90      0.87       193\n",
      "\n"
     ]
    },
    {
     "name": "stderr",
     "output_type": "stream",
     "text": [
      "/Library/Frameworks/Python.framework/Versions/3.12/lib/python3.12/site-packages/sklearn/metrics/_classification.py:1509: UndefinedMetricWarning: Precision is ill-defined and being set to 0.0 in labels with no predicted samples. Use `zero_division` parameter to control this behavior.\n",
      "  _warn_prf(average, modifier, f\"{metric.capitalize()} is\", len(result))\n",
      "/Library/Frameworks/Python.framework/Versions/3.12/lib/python3.12/site-packages/sklearn/metrics/_classification.py:1509: UndefinedMetricWarning: Precision is ill-defined and being set to 0.0 in labels with no predicted samples. Use `zero_division` parameter to control this behavior.\n",
      "  _warn_prf(average, modifier, f\"{metric.capitalize()} is\", len(result))\n",
      "/Library/Frameworks/Python.framework/Versions/3.12/lib/python3.12/site-packages/sklearn/metrics/_classification.py:1509: UndefinedMetricWarning: Precision is ill-defined and being set to 0.0 in labels with no predicted samples. Use `zero_division` parameter to control this behavior.\n",
      "  _warn_prf(average, modifier, f\"{metric.capitalize()} is\", len(result))\n"
     ]
    }
   ],
   "source": [
    "from sklearn import svm\n",
    "lin_clf = svm.LinearSVC()\n",
    "from sklearn.metrics import classification_report\n",
    "\n",
    "lin_clf.fit(vec_training_features, training_gold_labels)\n",
    "predicted = lin_clf.predict(vec_test_features)\n",
    "\n",
    "unique_labels = np.unique(['O', 'I-WORK_OF_ART', 'B-WORK_OF_ART', 'B-DATE', 'I-DATE', 'B-PERSON', 'I-PERSON', 'I-ORG', 'B-ORG']) #Labels that exist in the test set\n",
    "report = classification_report(test_gold_labels, predicted, labels=unique_labels)\n",
    "\n",
    "print(report)"
   ]
  },
  {
   "cell_type": "code",
   "execution_count": 63,
   "metadata": {},
   "outputs": [
    {
     "name": "stderr",
     "output_type": "stream",
     "text": [
      "/Library/Frameworks/Python.framework/Versions/3.12/lib/python3.12/site-packages/sklearn/metrics/_classification.py:1509: UndefinedMetricWarning: Precision is ill-defined and being set to 0.0 in labels with no predicted samples. Use `zero_division` parameter to control this behavior.\n",
      "  _warn_prf(average, modifier, f\"{metric.capitalize()} is\", len(result))\n",
      "/Library/Frameworks/Python.framework/Versions/3.12/lib/python3.12/site-packages/sklearn/metrics/_classification.py:1509: UndefinedMetricWarning: Recall is ill-defined and being set to 0.0 in labels with no true samples. Use `zero_division` parameter to control this behavior.\n",
      "  _warn_prf(average, modifier, f\"{metric.capitalize()} is\", len(result))\n",
      "/Library/Frameworks/Python.framework/Versions/3.12/lib/python3.12/site-packages/sklearn/metrics/_classification.py:1509: UndefinedMetricWarning: Precision is ill-defined and being set to 0.0 in labels with no predicted samples. Use `zero_division` parameter to control this behavior.\n",
      "  _warn_prf(average, modifier, f\"{metric.capitalize()} is\", len(result))\n",
      "/Library/Frameworks/Python.framework/Versions/3.12/lib/python3.12/site-packages/sklearn/metrics/_classification.py:1509: UndefinedMetricWarning: Recall is ill-defined and being set to 0.0 in labels with no true samples. Use `zero_division` parameter to control this behavior.\n",
      "  _warn_prf(average, modifier, f\"{metric.capitalize()} is\", len(result))\n",
      "/Library/Frameworks/Python.framework/Versions/3.12/lib/python3.12/site-packages/sklearn/metrics/_classification.py:1509: UndefinedMetricWarning: Precision is ill-defined and being set to 0.0 in labels with no predicted samples. Use `zero_division` parameter to control this behavior.\n",
      "  _warn_prf(average, modifier, f\"{metric.capitalize()} is\", len(result))\n",
      "/Library/Frameworks/Python.framework/Versions/3.12/lib/python3.12/site-packages/sklearn/metrics/_classification.py:1509: UndefinedMetricWarning: Recall is ill-defined and being set to 0.0 in labels with no true samples. Use `zero_division` parameter to control this behavior.\n",
      "  _warn_prf(average, modifier, f\"{metric.capitalize()} is\", len(result))\n"
     ]
    },
    {
     "data": {
      "image/png": "[encoded data removed]",
      "text/plain": [
       "<Figure size 1000x600 with 1 Axes>"
      ]
     },
     "metadata": {},
     "output_type": "display_data"
    }
   ],
   "source": [
    "report_dict = classification_report(test_gold_labels, predicted, output_dict=True)\n",
    "report_df = pd.DataFrame(report_dict).transpose()\n",
    "report_df = report_df.sort_values(by='f1-score', ascending=False)\n",
    "report_df.drop('accuracy', inplace=True)\n",
    "report_df.drop('macro avg', inplace=True)\n",
    "report_df.drop('weighted avg', inplace=True)\n",
    "report_df.drop('B-CARDINAL', inplace=True)\n",
    "report_df.drop('B-GPE', inplace=True)\n",
    "report_df.drop('I-EVENT', inplace=True)\n",
    "report_df.drop('I-GPE', inplace=True)\n",
    "report_df['f1-score'].plot(kind='bar', figsize=(10, 6))\n",
    "plt.ylabel('F1 Score')\n",
    "plt.xlabel('NER Label')\n",
    "plt.title('F1 Score by NER Label')\n",
    "plt.show()"
   ]
  },
  {
   "cell_type": "code",
   "execution_count": null,
   "metadata": {},
   "outputs": [],
   "source": []
  }
 ],
 "metadata": {
  "kernelspec": {
   "display_name": "Python 3",
   "language": "python",
   "name": "python3"
  },
  "language_info": {
   "codemirror_mode": {
    "name": "ipython",
    "version": 3
   },
   "file_extension": ".py",
   "mimetype": "text/x-python",
   "name": "python",
   "nbconvert_exporter": "python",
   "pygments_lexer": "ipython3",
   "version": "3.12.1"
  }
 },
 "nbformat": 4,
 "nbformat_minor": 2
}
