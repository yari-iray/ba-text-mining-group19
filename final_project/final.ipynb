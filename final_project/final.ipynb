{
 "cells": [
  {
   "cell_type": "code",
   "execution_count": 16,
   "metadata": {},
   "outputs": [],
   "source": [
    "import numpy as np\n",
    "import matplotlib.pyplot as plt\n",
    "import pandas as pd\n",
    "import sklearn as sk\n",
    "import nltk"
   ]
  },
  {
   "cell_type": "code",
   "execution_count": 17,
   "metadata": {},
   "outputs": [
    {
     "data": {
      "text/html": [
       "<div>\n",
       "<style scoped>\n",
       "    .dataframe tbody tr th:only-of-type {\n",
       "        vertical-align: middle;\n",
       "    }\n",
       "\n",
       "    .dataframe tbody tr th {\n",
       "        vertical-align: top;\n",
       "    }\n",
       "\n",
       "    .dataframe thead th {\n",
       "        text-align: right;\n",
       "    }\n",
       "</style>\n",
       "<table border=\"1\" class=\"dataframe\">\n",
       "  <thead>\n",
       "    <tr style=\"text-align: right;\">\n",
       "      <th></th>\n",
       "      <th>sentence id</th>\n",
       "      <th>token id</th>\n",
       "      <th>token</th>\n",
       "      <th>BIO NER tag</th>\n",
       "      <th>POS</th>\n",
       "    </tr>\n",
       "  </thead>\n",
       "  <tbody>\n",
       "    <tr>\n",
       "      <th>0</th>\n",
       "      <td>0</td>\n",
       "      <td>0</td>\n",
       "      <td>I</td>\n",
       "      <td>O</td>\n",
       "      <td>PRP</td>\n",
       "    </tr>\n",
       "    <tr>\n",
       "      <th>1</th>\n",
       "      <td>0</td>\n",
       "      <td>1</td>\n",
       "      <td>would</td>\n",
       "      <td>O</td>\n",
       "      <td>MD</td>\n",
       "    </tr>\n",
       "    <tr>\n",
       "      <th>2</th>\n",
       "      <td>0</td>\n",
       "      <td>2</td>\n",
       "      <td>n't</td>\n",
       "      <td>O</td>\n",
       "      <td>RB</td>\n",
       "    </tr>\n",
       "    <tr>\n",
       "      <th>3</th>\n",
       "      <td>0</td>\n",
       "      <td>3</td>\n",
       "      <td>be</td>\n",
       "      <td>O</td>\n",
       "      <td>VB</td>\n",
       "    </tr>\n",
       "    <tr>\n",
       "      <th>4</th>\n",
       "      <td>0</td>\n",
       "      <td>4</td>\n",
       "      <td>caught</td>\n",
       "      <td>O</td>\n",
       "      <td>NN</td>\n",
       "    </tr>\n",
       "  </tbody>\n",
       "</table>\n",
       "</div>"
      ],
      "text/plain": [
       "   sentence id  token id   token BIO NER tag  POS\n",
       "0            0         0       I           O  PRP\n",
       "1            0         1   would           O   MD\n",
       "2            0         2     n't           O   RB\n",
       "3            0         3      be           O   VB\n",
       "4            0         4  caught           O   NN"
      ]
     },
     "execution_count": 17,
     "metadata": {},
     "output_type": "execute_result"
    }
   ],
   "source": [
    "df_ner_test = pd.read_csv('data/ner-test.tsv', delimiter='\\t')\n",
    "\n",
    "# adding POS tags\n",
    "def pos_tagging(token):\n",
    "    return nltk.pos_tag([token])[0][1]\n",
    "\n",
    "df_ner_test['POS'] = df_ner_test['token'].apply(pos_tagging)\n",
    "df_ner_test.head()\n"
   ]
  },
  {
   "cell_type": "markdown",
   "metadata": {},
   "source": [
    "**Added the NLTK pos_tags to the test set because they are a useful feature for NERC.**"
   ]
  },
  {
   "cell_type": "code",
   "execution_count": 31,
   "metadata": {},
   "outputs": [],
   "source": [
    "#### Named Entity Recognition\n",
    "\n",
    "test_features = []\n",
    "test_gold_labels = []\n",
    "\n",
    "rows = df_ner_test.iterrows()\n",
    "for i, row in rows:\n",
    "    token = row['token']\n",
    "    \n",
    "    a_dict = {\n",
    "        'word': token,                # the word itself\n",
    "        'pos': row['POS'],                   # the part of speech\n",
    "        'word[-3:]': token[-3:],      # the last three characters of the word\n",
    "        'word[-2:]': token[-2:],      # the last two characters of the word\n",
    "        'upper': token[0].isupper(),  # whether the first letter is uppercase\n",
    "        'title': token.istitle(),      # whether the word is titlecased \n",
    "                                 \n",
    "        # 'upper' and 'lower' will be slightly different because\n",
    "        # of words like 'EU'\n",
    "    }\n",
    "    \n",
    "    # If we have a previous word, add it to the features list to improve NERC\n",
    "    if i > 0:\n",
    "        a_dict['prev-word'] = df_ner_test.iloc[i - 1]['token']\n",
    "\n",
    "    test_features.append(a_dict)\n",
    "    test_gold_labels.append(row['BIO NER tag'])"
   ]
  }
 ],
 "metadata": {
  "kernelspec": {
   "display_name": "Python 3",
   "language": "python",
   "name": "python3"
  },
  "language_info": {
   "codemirror_mode": {
    "name": "ipython",
    "version": 3
   },
   "file_extension": ".py",
   "mimetype": "text/x-python",
   "name": "python",
   "nbconvert_exporter": "python",
   "pygments_lexer": "ipython3",
   "version": "3.12.1"
  }
 },
 "nbformat": 4,
 "nbformat_minor": 2
}
