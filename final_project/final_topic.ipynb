{
 "cells": [
  {
   "cell_type": "code",
   "execution_count": 112,
   "metadata": {},
   "outputs": [],
   "source": [
    "#imports\n",
    "from simpletransformers.classification import ClassificationModel, ClassificationArgs\n",
    "import pandas as pd\n",
    "from sklearn.decomposition import NMF\n",
    "from sklearn.model_selection import train_test_split\n",
    "from sklearn.feature_extraction.text import TfidfVectorizer\n",
    "import numpy as np"
   ]
  },
  {
   "cell_type": "code",
   "execution_count": 113,
   "metadata": {},
   "outputs": [],
   "source": [
    "np.random.seed(6)"
   ]
  },
  {
   "cell_type": "code",
   "execution_count": 114,
   "metadata": {},
   "outputs": [],
   "source": [
    "dev = pd.read_csv('data/sentiment-topic-test.tsv', sep='\\t')\n",
    "dev_train, dev_test = train_test_split(dev, test_size=0.5)\n",
    "\n",
    "analyzer = TfidfVectorizer().build_analyzer()\n",
    "\n",
    "vectorizer = TfidfVectorizer(stop_words='english')\n",
    "matrix = vectorizer.fit_transform(dev_train['text'])\n",
    "\n",
    "words_df = pd.DataFrame(matrix.toarray(), columns=vectorizer.get_feature_names_out())\n"
   ]
  },
  {
   "cell_type": "code",
   "execution_count": 115,
   "metadata": {},
   "outputs": [
    {
     "name": "stdout",
     "output_type": "stream",
     "text": [
      "Topic 0: zendaya slayed does dune movies ultimately ride\n",
      "Topic 1: beginning just hoooked finished prejudice pride reading\n",
      "Topic 2: messi injyry went midgame favorite strongggg started\n"
     ]
    }
   ],
   "source": [
    "n = 3\n",
    "model = NMF(n_components=n, )\n",
    "model.fit(matrix)\n",
    "\n",
    "\n",
    "n_words = 7\n",
    "feature_names = vectorizer.get_feature_names_out()\n",
    "\n",
    "topic_list = []\n",
    "for topic_idx, topic in enumerate(model.components_):\n",
    "    top_n = [feature_names[i] for i in topic.argsort()[-n_words:]][::-1]\n",
    "    topic_features = ' '.join(top_n)\n",
    "    topic_list.append(f\"topic_{'_'.join(top_n[:3])}\")\n",
    "\n",
    "    print(f\"Topic {topic_idx}: {topic_features}\")"
   ]
  }
 ],
 "metadata": {
  "kernelspec": {
   "display_name": "Python 3",
   "language": "python",
   "name": "python3"
  },
  "language_info": {
   "codemirror_mode": {
    "name": "ipython",
    "version": 3
   },
   "file_extension": ".py",
   "mimetype": "text/x-python",
   "name": "python",
   "nbconvert_exporter": "python",
   "pygments_lexer": "ipython3",
   "version": "3.11.2"
  }
 },
 "nbformat": 4,
 "nbformat_minor": 2
}
