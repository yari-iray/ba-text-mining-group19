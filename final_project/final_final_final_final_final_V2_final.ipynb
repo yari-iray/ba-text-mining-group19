{
 "cells": [
  {
   "cell_type": "markdown",
   "metadata": {},
   "source": [
    "# Final project Group 19"
   ]
  },
  {
   "cell_type": "markdown",
   "metadata": {},
   "source": [
    "## 1. Named Entity recognition\n",
    "For the entity recognition we used a fork of the ontonotes dataset\n",
    "The dataset is split into tokens, and gets PoS tags added by NLTK"
   ]
  },
  {
   "cell_type": "code",
   "execution_count": 1,
   "metadata": {},
   "outputs": [
    {
     "name": "stderr",
     "output_type": "stream",
     "text": [
      "c:\\Python311\\Lib\\site-packages\\tqdm\\auto.py:22: TqdmWarning: IProgress not found. Please update jupyter and ipywidgets. See https://ipywidgets.readthedocs.io/en/stable/user_install.html\n",
      "  from .autonotebook import tqdm as notebook_tqdm\n"
     ]
    }
   ],
   "source": [
    "import numpy as np\n",
    "import matplotlib.pyplot as plt\n",
    "import pandas as pd\n",
    "import nltk\n",
    "from datasets import load_dataset\n",
    "import json\n",
    "from collections import Counter\n",
    "from sklearn.feature_extraction import DictVectorizer\n",
    "from sklearn import svm\n",
    "from sklearn.metrics import classification_report"
   ]
  },
  {
   "cell_type": "code",
   "execution_count": 21,
   "metadata": {},
   "outputs": [],
   "source": [
    "# 1. Load the ontonotes fork dataset\n",
    "# 2. Read the JSON label files\n",
    "# 3. Convert the dataframe into a (large) list of tokens with pos and entity labels\n",
    "\n",
    "dataset = load_dataset(\"tner/ontonotes5\")\n",
    "ontonotes5_train_dataset = pd.DataFrame(dataset['train'])\n",
    "\n",
    "with open('dataset_label.json', 'r') as file:\n",
    "    labels = json.load(file)\n",
    "    \n",
    "labels_by_id = { v:k for k,v in labels.items() }\n",
    "training_tokens = []\n",
    "\n",
    "for row in ontonotes5_train_dataset.iterrows():\n",
    "    zipped = list(zip(row[1]['tokens'], row[1]['tags']))\n",
    "    sent_tags = nltk.pos_tag([x[0] for x in zipped])\n",
    "    \n",
    "    for i, item in enumerate(zipped):\n",
    "        tag = sent_tags[i][1]\n",
    "        training_tokens.append((item[0], labels_by_id[item[1]], tag))"
   ]
  },
  {
   "cell_type": "code",
   "execution_count": 5,
   "metadata": {},
   "outputs": [
    {
     "data": {
      "text/html": [
       "<div>\n",
       "<style scoped>\n",
       "    .dataframe tbody tr th:only-of-type {\n",
       "        vertical-align: middle;\n",
       "    }\n",
       "\n",
       "    .dataframe tbody tr th {\n",
       "        vertical-align: top;\n",
       "    }\n",
       "\n",
       "    .dataframe thead th {\n",
       "        text-align: right;\n",
       "    }\n",
       "</style>\n",
       "<table border=\"1\" class=\"dataframe\">\n",
       "  <thead>\n",
       "    <tr style=\"text-align: right;\">\n",
       "      <th></th>\n",
       "      <th>sentence id</th>\n",
       "      <th>token id</th>\n",
       "      <th>token</th>\n",
       "      <th>BIO NER tag</th>\n",
       "      <th>POS</th>\n",
       "    </tr>\n",
       "  </thead>\n",
       "  <tbody>\n",
       "    <tr>\n",
       "      <th>0</th>\n",
       "      <td>0</td>\n",
       "      <td>0</td>\n",
       "      <td>I</td>\n",
       "      <td>O</td>\n",
       "      <td>PRP</td>\n",
       "    </tr>\n",
       "    <tr>\n",
       "      <th>1</th>\n",
       "      <td>0</td>\n",
       "      <td>1</td>\n",
       "      <td>would</td>\n",
       "      <td>O</td>\n",
       "      <td>MD</td>\n",
       "    </tr>\n",
       "    <tr>\n",
       "      <th>2</th>\n",
       "      <td>0</td>\n",
       "      <td>2</td>\n",
       "      <td>n't</td>\n",
       "      <td>O</td>\n",
       "      <td>RB</td>\n",
       "    </tr>\n",
       "    <tr>\n",
       "      <th>3</th>\n",
       "      <td>0</td>\n",
       "      <td>3</td>\n",
       "      <td>be</td>\n",
       "      <td>O</td>\n",
       "      <td>VB</td>\n",
       "    </tr>\n",
       "    <tr>\n",
       "      <th>4</th>\n",
       "      <td>0</td>\n",
       "      <td>4</td>\n",
       "      <td>caught</td>\n",
       "      <td>O</td>\n",
       "      <td>NN</td>\n",
       "    </tr>\n",
       "  </tbody>\n",
       "</table>\n",
       "</div>"
      ],
      "text/plain": [
       "   sentence id  token id   token BIO NER tag  POS\n",
       "0            0         0       I           O  PRP\n",
       "1            0         1   would           O   MD\n",
       "2            0         2     n't           O   RB\n",
       "3            0         3      be           O   VB\n",
       "4            0         4  caught           O   NN"
      ]
     },
     "execution_count": 5,
     "metadata": {},
     "output_type": "execute_result"
    }
   ],
   "source": [
    "# adding POS tags to the test set\n",
    "ner_testset = pd.read_csv('data/ner-test.tsv', delimiter='\\t')\n",
    "\n",
    "def pos_tagging(token):\n",
    "    return nltk.pos_tag([token])[0][1]\n",
    "\n",
    "ner_testset['POS'] = ner_testset['token'].apply(pos_tagging)\n",
    "ner_testset.head()"
   ]
  },
  {
   "cell_type": "code",
   "execution_count": 7,
   "metadata": {},
   "outputs": [
    {
     "name": "stdout",
     "output_type": "stream",
     "text": [
      "[('People', 'O', 'NNS'), ('start', 'O', 'NN'), ('their', 'O', 'PRP$'), ('own', 'O', 'JJ'), ('businesses', 'O', 'NNS'), ('for', 'O', 'IN'), ('many', 'O', 'JJ'), ('reasons', 'O', 'NNS'), ('.', 'O', '.'), ('But', 'O', 'CC')]\n"
     ]
    }
   ],
   "source": [
    "print(training_tokens[0:10])"
   ]
  },
  {
   "cell_type": "code",
   "execution_count": 8,
   "metadata": {},
   "outputs": [],
   "source": [
    "# Extract the features from the test set\n",
    "test_features = []\n",
    "test_gold_labels = []\n",
    "\n",
    "test_words = ner_testset.iterrows()\n",
    "for i, row in test_words:\n",
    "    token: str = row['token']\n",
    "    \n",
    "    a_dict = {\n",
    "        'word': token,                  # the word itself\n",
    "        'pos': row['POS'],              # the part of speech\n",
    "        'word[-3:]': token[-3:],        # the last three characters of the word\n",
    "        'word[-2:]': token[-2:],        # the last two characters of the word\n",
    "        'upper': token[0].isupper(),    # whether the first letter is uppercase\n",
    "        'title': token.istitle(),       # whether the word is titlecased \n",
    "        'prev-word': \"!NEWSENTENCE\",    # Previous word.\n",
    "        'prev-pos': \"!NEWSENTENCE\",     # Previous POS tag\n",
    "        'prev-upper': \"!NEWSENTENCE\",   # Previous word is uppercase\n",
    "        'prev-title': \"!NEWSENTENCE\",   # Previous word is titlecased\n",
    "    }\n",
    "    \n",
    "    #If we have a previous word, add it to the features list to improve NERC\n",
    "    if i > 0:\n",
    "        # only get previous word if they're part of the same sentence\n",
    "        prev_row = ner_testset.iloc[i - 1]\n",
    "        \n",
    "        if prev_row['sentence id'] == row['sentence id']:\n",
    "            a_dict['prev-word'] = prev_row['token']\n",
    "            a_dict['prev-pos'] = prev_row['POS']\n",
    "            a_dict['prev-upper'] = prev_row['token'][0].isupper()\n",
    "            a_dict['prev-title'] = prev_row['token'].istitle()\n",
    "\n",
    "    test_features.append(a_dict)\n",
    "    test_gold_labels.append(row['BIO NER tag'])"
   ]
  },
  {
   "cell_type": "code",
   "execution_count": 9,
   "metadata": {},
   "outputs": [],
   "source": [
    "training_features = []\n",
    "training_gold_labels = []\n",
    "\n",
    "for i, (token, ne_label, pos) in enumerate(training_tokens):\n",
    "   if token == '' or token == 'DOCSTART':\n",
    "      continue\n",
    "   \n",
    "   a_dict = {\n",
    "      'word': token,                # the word itself\n",
    "      'pos': pos,                   # the part of speech\n",
    "      'word[-3:]': token[-3:],      # the last three characters of the word\n",
    "      'word[-2:]': token[-2:],      # the last two characters of the word\n",
    "      'upper': token[0].isupper(),  # whether the first letter is uppercase\n",
    "      'title': token.istitle(),     # whether the word is titlecased \n",
    "      'prev-word': \"!NEWSENTENCE\",       # the previous word (!NEWSENTENCE if it's the first word)\n",
    "      'prev-pos': \"!NEWSENTENCE\",        # the previous POS tag (!NEWSENTENCE if it's the first word)\n",
    "      'prev-upper': \"!NEWSENTENCE\",      # whether the previous word is uppercase (!NEWSENTENCE if it's the first word)\n",
    "      'prev-title': \"!NEWSENTENCE\"       # whether the previous word is titlecased (!NEWSENTENCE if it's the first word)\n",
    "   }\n",
    "   \n",
    "    #If we have a previous word, add it to the features list to improve NERC\n",
    "   if i > 0:\n",
    "    # only get previous word if they're part of the same sentence\n",
    "      prev_token = training_tokens[i - 1][0]\n",
    "      \n",
    "      if prev_token != '.':\n",
    "         a_dict['prev-word'] = prev_token\n",
    "         a_dict['prev-pos'] = training_features[i-1]['pos']\n",
    "         a_dict['prev-upper'] = prev_token[0].isupper()\n",
    "         a_dict['prev-title'] = prev_token.istitle()\n",
    "      \n",
    "\n",
    "   training_features.append(a_dict)\n",
    "   training_gold_labels.append(ne_label)"
   ]
  },
  {
   "cell_type": "code",
   "execution_count": 12,
   "metadata": {},
   "outputs": [
    {
     "name": "stdout",
     "output_type": "stream",
     "text": [
      "Training features sample:\n",
      "[{'word': 'People', 'pos': 'NNS', 'word[-3:]': 'ple', 'word[-2:]': 'le', 'upper': True, 'title': True, 'prev-word': '!NEWSENTENCE', 'prev-pos': '!NEWSENTENCE', 'prev-upper': '!NEWSENTENCE', 'prev-title': '!NEWSENTENCE'}, {'word': 'start', 'pos': 'NN', 'word[-3:]': 'art', 'word[-2:]': 'rt', 'upper': False, 'title': False, 'prev-word': 'People', 'prev-pos': 'NNS', 'prev-upper': True, 'prev-title': True}, {'word': 'their', 'pos': 'PRP$', 'word[-3:]': 'eir', 'word[-2:]': 'ir', 'upper': False, 'title': False, 'prev-word': 'start', 'prev-pos': 'NN', 'prev-upper': False, 'prev-title': False}, {'word': 'own', 'pos': 'JJ', 'word[-3:]': 'own', 'word[-2:]': 'wn', 'upper': False, 'title': False, 'prev-word': 'their', 'prev-pos': 'PRP$', 'prev-upper': False, 'prev-title': False}, {'word': 'businesses', 'pos': 'NNS', 'word[-3:]': 'ses', 'word[-2:]': 'es', 'upper': False, 'title': False, 'prev-word': 'own', 'prev-pos': 'JJ', 'prev-upper': False, 'prev-title': False}, {'word': 'for', 'pos': 'IN', 'word[-3:]': 'for', 'word[-2:]': 'or', 'upper': False, 'title': False, 'prev-word': 'businesses', 'prev-pos': 'NNS', 'prev-upper': False, 'prev-title': False}, {'word': 'many', 'pos': 'JJ', 'word[-3:]': 'any', 'word[-2:]': 'ny', 'upper': False, 'title': False, 'prev-word': 'for', 'prev-pos': 'IN', 'prev-upper': False, 'prev-title': False}, {'word': 'reasons', 'pos': 'NNS', 'word[-3:]': 'ons', 'word[-2:]': 'ns', 'upper': False, 'title': False, 'prev-word': 'many', 'prev-pos': 'JJ', 'prev-upper': False, 'prev-title': False}, {'word': '.', 'pos': '.', 'word[-3:]': '.', 'word[-2:]': '.', 'upper': False, 'title': False, 'prev-word': 'reasons', 'prev-pos': 'NNS', 'prev-upper': False, 'prev-title': False}, {'word': 'But', 'pos': 'CC', 'word[-3:]': 'But', 'word[-2:]': 'ut', 'upper': True, 'title': True, 'prev-word': '!NEWSENTENCE', 'prev-pos': '!NEWSENTENCE', 'prev-upper': '!NEWSENTENCE', 'prev-title': '!NEWSENTENCE'}]\n",
      "\n",
      "Test features sample:\n",
      "[{'word': 'I', 'pos': 'PRP', 'word[-3:]': 'I', 'word[-2:]': 'I', 'upper': True, 'title': True, 'prev-word': '!NEWSENTENCE', 'prev-pos': '!NEWSENTENCE', 'prev-upper': '!NEWSENTENCE', 'prev-title': '!NEWSENTENCE'}, {'word': 'would', 'pos': 'MD', 'word[-3:]': 'uld', 'word[-2:]': 'ld', 'upper': False, 'title': False, 'prev-word': 'I', 'prev-pos': 'PRP', 'prev-upper': True, 'prev-title': True}, {'word': \"n't\", 'pos': 'RB', 'word[-3:]': \"n't\", 'word[-2:]': \"'t\", 'upper': False, 'title': False, 'prev-word': 'would', 'prev-pos': 'MD', 'prev-upper': False, 'prev-title': False}, {'word': 'be', 'pos': 'VB', 'word[-3:]': 'be', 'word[-2:]': 'be', 'upper': False, 'title': False, 'prev-word': \"n't\", 'prev-pos': 'RB', 'prev-upper': False, 'prev-title': False}, {'word': 'caught', 'pos': 'NN', 'word[-3:]': 'ght', 'word[-2:]': 'ht', 'upper': False, 'title': False, 'prev-word': 'be', 'prev-pos': 'VB', 'prev-upper': False, 'prev-title': False}, {'word': 'dead', 'pos': 'JJ', 'word[-3:]': 'ead', 'word[-2:]': 'ad', 'upper': False, 'title': False, 'prev-word': 'caught', 'prev-pos': 'NN', 'prev-upper': False, 'prev-title': False}, {'word': 'watching', 'pos': 'VBG', 'word[-3:]': 'ing', 'word[-2:]': 'ng', 'upper': False, 'title': False, 'prev-word': 'dead', 'prev-pos': 'JJ', 'prev-upper': False, 'prev-title': False}, {'word': 'the', 'pos': 'DT', 'word[-3:]': 'the', 'word[-2:]': 'he', 'upper': False, 'title': False, 'prev-word': 'watching', 'prev-pos': 'VBG', 'prev-upper': False, 'prev-title': False}, {'word': 'NFL', 'pos': 'NN', 'word[-3:]': 'NFL', 'word[-2:]': 'FL', 'upper': True, 'title': False, 'prev-word': 'the', 'prev-pos': 'DT', 'prev-upper': False, 'prev-title': False}, {'word': 'if', 'pos': 'IN', 'word[-3:]': 'if', 'word[-2:]': 'if', 'upper': False, 'title': False, 'prev-word': 'NFL', 'prev-pos': 'NN', 'prev-upper': True, 'prev-title': False}]\n",
      "193 1088442\n"
     ]
    }
   ],
   "source": [
    "print(\"Training features sample:\")\n",
    "print(training_features[:10])\n",
    "print()\n",
    "print(\"Test features sample:\")\n",
    "print(test_features[0:10])\n",
    "\n",
    "print(len(test_features), len(training_features))"
   ]
  },
  {
   "cell_type": "code",
   "execution_count": 13,
   "metadata": {},
   "outputs": [
    {
     "name": "stdout",
     "output_type": "stream",
     "text": [
      "Count labels in the test set: \n",
      "Counter({'O': 160, 'I-WORK_OF_ART': 9, 'B-PERSON': 6, 'I-ORG': 6, 'B-WORK_OF_ART': 4, 'B-ORG': 3, 'I-PERSON': 3, 'B-DATE': 1, 'I-DATE': 1})\n",
      "\n",
      "Count labels in the training set: \n"
     ]
    },
    {
     "data": {
      "text/plain": [
       "Counter({'O': 939111,\n",
       "         'B-CARDINAL': 7355,\n",
       "         'B-DATE': 10922,\n",
       "         'I-DATE': 13333,\n",
       "         'B-PERSON': 15429,\n",
       "         'I-PERSON': 11147,\n",
       "         'B-NORP': 6870,\n",
       "         'B-GPE': 15405,\n",
       "         'I-GPE': 3679,\n",
       "         'B-LAW': 282,\n",
       "         'I-LAW': 785,\n",
       "         'B-ORG': 12820,\n",
       "         'I-ORG': 18246,\n",
       "         'B-PERCENT': 1763,\n",
       "         'I-PERCENT': 2498,\n",
       "         'B-ORDINAL': 1640,\n",
       "         'B-MONEY': 2411,\n",
       "         'I-MONEY': 4912,\n",
       "         'B-WORK_OF_ART': 974,\n",
       "         'I-WORK_OF_ART': 2400,\n",
       "         'B-FAC': 860,\n",
       "         'B-TIME': 1233,\n",
       "         'I-CARDINAL': 2289,\n",
       "         'B-LOC': 1514,\n",
       "         'B-QUANTITY': 657,\n",
       "         'I-QUANTITY': 1235,\n",
       "         'I-NORP': 446,\n",
       "         'I-LOC': 1395,\n",
       "         'B-PRODUCT': 606,\n",
       "         'I-TIME': 1507,\n",
       "         'B-EVENT': 748,\n",
       "         'I-EVENT': 1605,\n",
       "         'I-FAC': 1467,\n",
       "         'B-LANGUAGE': 304,\n",
       "         'I-PRODUCT': 576,\n",
       "         'I-ORDINAL': 5,\n",
       "         'I-LANGUAGE': 13})"
      ]
     },
     "execution_count": 13,
     "metadata": {},
     "output_type": "execute_result"
    }
   ],
   "source": [
    "print('Count labels in the test set: ')\n",
    "print(Counter(ner_testset['BIO NER tag']))\n",
    "print()\n",
    "print('Count labels in the training set: ')\n",
    "Counter(training_tokens[i][1] for i in range(len(training_tokens)))"
   ]
  },
  {
   "cell_type": "code",
   "execution_count": 14,
   "metadata": {},
   "outputs": [
    {
     "name": "stdout",
     "output_type": "stream",
     "text": [
      "(1088635, 89878)\n",
      "(1088442, 89878) (193, 89878)\n"
     ]
    }
   ],
   "source": [
    "# Concat all features\n",
    "all_features = training_features.copy()\n",
    "all_features.extend(test_features)\n",
    "\n",
    "vec = DictVectorizer()\n",
    "the_array = vec.fit_transform(all_features)\n",
    "print(the_array.shape)\n",
    "\n",
    "vec_training_features = the_array[:len(training_features)]\n",
    "vec_test_features = the_array[len(training_features):]\n",
    "\n",
    "print(vec_training_features.shape, vec_test_features.shape)"
   ]
  },
  {
   "cell_type": "code",
   "execution_count": 16,
   "metadata": {},
   "outputs": [
    {
     "name": "stdout",
     "output_type": "stream",
     "text": [
      "               precision    recall  f1-score   support\n",
      "\n",
      "       B-DATE       1.00      1.00      1.00         1\n",
      "        B-ORG       1.00      0.67      0.80         3\n",
      "     B-PERSON       1.00      1.00      1.00         6\n",
      "B-WORK_OF_ART       1.00      0.25      0.40         4\n",
      "       I-DATE       0.50      1.00      0.67         1\n",
      "        I-ORG       0.50      0.17      0.25         6\n",
      "     I-PERSON       1.00      0.67      0.80         3\n",
      "I-WORK_OF_ART       0.00      0.00      0.00         9\n",
      "            O       0.92      0.99      0.96       160\n",
      "\n",
      "    micro avg       0.92      0.90      0.91       193\n",
      "    macro avg       0.77      0.64      0.65       193\n",
      " weighted avg       0.87      0.90      0.87       193\n",
      "\n"
     ]
    },
    {
     "name": "stderr",
     "output_type": "stream",
     "text": [
      "c:\\Python311\\Lib\\site-packages\\sklearn\\metrics\\_classification.py:1344: UndefinedMetricWarning: Precision and F-score are ill-defined and being set to 0.0 in labels with no predicted samples. Use `zero_division` parameter to control this behavior.\n",
      "  _warn_prf(average, modifier, msg_start, len(result))\n",
      "c:\\Python311\\Lib\\site-packages\\sklearn\\metrics\\_classification.py:1344: UndefinedMetricWarning: Precision and F-score are ill-defined and being set to 0.0 in labels with no predicted samples. Use `zero_division` parameter to control this behavior.\n",
      "  _warn_prf(average, modifier, msg_start, len(result))\n",
      "c:\\Python311\\Lib\\site-packages\\sklearn\\metrics\\_classification.py:1344: UndefinedMetricWarning: Precision and F-score are ill-defined and being set to 0.0 in labels with no predicted samples. Use `zero_division` parameter to control this behavior.\n",
      "  _warn_prf(average, modifier, msg_start, len(result))\n"
     ]
    }
   ],
   "source": [
    "lin_clf = svm.LinearSVC()\n",
    "lin_clf.fit(vec_training_features, training_gold_labels)\n",
    "\n",
    "predicted = lin_clf.predict(vec_test_features)\n",
    "\n",
    "unique_labels = np.unique(['O', 'I-WORK_OF_ART', 'B-WORK_OF_ART', 'B-DATE', 'I-DATE', 'B-PERSON', 'I-PERSON', 'I-ORG', 'B-ORG']) \n",
    "report = classification_report(test_gold_labels, predicted, labels=unique_labels)\n",
    "\n",
    "print(report)"
   ]
  },
  {
   "cell_type": "code",
   "execution_count": 17,
   "metadata": {},
   "outputs": [
    {
     "name": "stderr",
     "output_type": "stream",
     "text": [
      "c:\\Python311\\Lib\\site-packages\\sklearn\\metrics\\_classification.py:1344: UndefinedMetricWarning: Precision and F-score are ill-defined and being set to 0.0 in labels with no predicted samples. Use `zero_division` parameter to control this behavior.\n",
      "  _warn_prf(average, modifier, msg_start, len(result))\n",
      "c:\\Python311\\Lib\\site-packages\\sklearn\\metrics\\_classification.py:1344: UndefinedMetricWarning: Recall and F-score are ill-defined and being set to 0.0 in labels with no true samples. Use `zero_division` parameter to control this behavior.\n",
      "  _warn_prf(average, modifier, msg_start, len(result))\n",
      "c:\\Python311\\Lib\\site-packages\\sklearn\\metrics\\_classification.py:1344: UndefinedMetricWarning: Precision and F-score are ill-defined and being set to 0.0 in labels with no predicted samples. Use `zero_division` parameter to control this behavior.\n",
      "  _warn_prf(average, modifier, msg_start, len(result))\n",
      "c:\\Python311\\Lib\\site-packages\\sklearn\\metrics\\_classification.py:1344: UndefinedMetricWarning: Recall and F-score are ill-defined and being set to 0.0 in labels with no true samples. Use `zero_division` parameter to control this behavior.\n",
      "  _warn_prf(average, modifier, msg_start, len(result))\n",
      "c:\\Python311\\Lib\\site-packages\\sklearn\\metrics\\_classification.py:1344: UndefinedMetricWarning: Precision and F-score are ill-defined and being set to 0.0 in labels with no predicted samples. Use `zero_division` parameter to control this behavior.\n",
      "  _warn_prf(average, modifier, msg_start, len(result))\n",
      "c:\\Python311\\Lib\\site-packages\\sklearn\\metrics\\_classification.py:1344: UndefinedMetricWarning: Recall and F-score are ill-defined and being set to 0.0 in labels with no true samples. Use `zero_division` parameter to control this behavior.\n",
      "  _warn_prf(average, modifier, msg_start, len(result))\n"
     ]
    },
    {
     "data": {
      "image/png": "[encoded data removed]",
      "text/plain": [
       "<Figure size 1000x600 with 1 Axes>"
      ]
     },
     "metadata": {},
     "output_type": "display_data"
    }
   ],
   "source": [
    "report_dict = classification_report(test_gold_labels, predicted, output_dict=True)\n",
    "report_df = pd.DataFrame(report_dict).transpose()\n",
    "report_df = report_df.sort_values(by='f1-score', ascending=False)\n",
    "report_df.drop('accuracy', inplace=True)\n",
    "report_df.drop('macro avg', inplace=True)\n",
    "report_df.drop('weighted avg', inplace=True)\n",
    "report_df.drop('B-CARDINAL', inplace=True)\n",
    "report_df.drop('B-GPE', inplace=True)\n",
    "report_df.drop('I-EVENT', inplace=True)\n",
    "report_df.drop('I-GPE', inplace=True)\n",
    "report_df['f1-score'].plot(kind='bar', figsize=(10, 6))\n",
    "plt.ylabel('F1 Score')\n",
    "plt.xlabel('NER Label')\n",
    "plt.title('F1 Score by NER Label')\n",
    "plt.show()"
   ]
  },
  {
   "cell_type": "markdown",
   "metadata": {},
   "source": [
    "## 2. Sentiment analysis\n",
    "For sentiment analysis we used 2 models. \n",
    "\n",
    "- First we used vader, but this was not really that successful, getting an accuracy of 40%\n",
    "- We also used a Naïve Bayes classifier"
   ]
  },
  {
   "cell_type": "markdown",
   "metadata": {},
   "source": [
    "Reasoning for using VADER:\n",
    "- Vader is a rule-based lexicon. (lecture 4, slide 36) This means that, at least on a dataset this small, it is very easy and very fast to use. However, these two properties often go at the cost of performance. For this reason, we wanted to see how it would compare against something that needed more effort and time.\n",
    "- Lemmatizing helps the model generalize the words used in the test set to something in the VADER lexicon.\n",
    "- After fine tuning the model using different sets of allowed POS-tagged words, it was found that allowing only verbs, adjectives and adverbs yielded the highest performance.\n",
    "\n",
    "Reasoning for using Sklearn multinomialNB (Naïve Bayes):\n",
    "- For sentiment analysis, finding similar training data to that of the providid test set is trivial; The set consists of tweet-like, short text with informal speech.\n",
    "- Although more complicated, the group had experience in using the model, and could reuse parts of the previously implemented model from Lab3.\n",
    "- Using the TF-IDF score of the words instead of a normal bag of words representation allows the model to prioritize more prevalent words for the determination of sentiment (very strongly polarizing words might not have a high TF-IDF score, and thus be not that important. They might just be part of normal speech as well). (Lecture 2, slide 57)\n",
    "- Due to the very small test-set-size, we chose the min_df parameter as small as possible, at 1. This was also confirmed to work best by running the model for different values."
   ]
  },
  {
   "cell_type": "code",
   "execution_count": null,
   "metadata": {},
   "outputs": [],
   "source": [
    "from nltk.corpus.reader import ConllCorpusReader\n",
    "from nltk.sentiment.vader import SentimentIntensityAnalyzer\n",
    "import spacy\n",
    "from sklearn.naive_bayes import MultinomialNB\n",
    "from sklearn.model_selection import train_test_split\n",
    "from sklearn.feature_extraction.text import CountVectorizer\n",
    "from nltk.corpus import stopwords\n",
    "from sklearn.feature_extraction.text import TfidfTransformer\n",
    "import matplotlib.pyplot as plt\n",
    "from sklearn.metrics import confusion_matrix, ConfusionMatrixDisplay\n",
    "\n",
    "nltk.download('vader_lexicon')"
   ]
  },
  {
   "cell_type": "code",
   "execution_count": null,
   "metadata": {},
   "outputs": [],
   "source": [
    "test_df = pd.read_csv('data/sentiment-topic-test.tsv', delimiter='\\t')\n",
    "train_df = ConllCorpusReader('data/CONLL2003', 'train.txt', ['words', 'pos', 'ignore', 'chunk'])\n",
    "valid_df = ConllCorpusReader('data/CONLL2003', 'valid.txt', ['words', 'pos', 'ignore', 'chunk'])"
   ]
  },
  {
   "cell_type": "code",
   "execution_count": null,
   "metadata": {},
   "outputs": [],
   "source": [
    "vader_model = SentimentIntensityAnalyzer()\n",
    "nlp = spacy.load(\"en_core_web_sm\")"
   ]
  },
  {
   "cell_type": "code",
   "execution_count": null,
   "metadata": {},
   "outputs": [],
   "source": [
    "def run_vader(text, lemmatize=False, parts_of_speech=None):\n",
    "    # Run VADER on a sentence from spacy\n",
    "    # Provide lemmas instead of direct text\n",
    "    # Provide \n",
    "\n",
    "    doc = nlp(text)\n",
    "    input_to_vader = []\n",
    "\n",
    "    for sentence in doc.sents:\n",
    "        for token in sentence:\n",
    "            to_add = token.text\n",
    "\n",
    "            if lemmatize:\n",
    "                to_add = token.lemma_ if token.lemma_ != '-PRON-' else token.text\n",
    "\n",
    "            if not parts_of_speech:\n",
    "                input_to_vader.append(to_add)\n",
    "                continue\n",
    "            if token.pos_ in parts_of_speech:\n",
    "                    input_to_vader.append(to_add)\n",
    "\n",
    "    return vader_model.polarity_scores(' '.join(input_to_vader))\n",
    "\n",
    "def vader_output_to_label(vader_output: dict):\n",
    "    compound = vader_output['compound']\n",
    "    \n",
    "    if compound < 0:\n",
    "        return 'negative'\n",
    "    if compound == 0.0:\n",
    "        return 'neutral'\n",
    "    if compound > 0.0:\n",
    "        return 'positive'\n",
    "    \n",
    "def test_vader(test_set, lemmatize=False, parts_of_speech=None):\n",
    "    \"\"\"\n",
    "    Run VADER on a test set\n",
    "    \"\"\" \n",
    "    texts = []\n",
    "    vader_predictions = []\n",
    "    gold_labels = []\n",
    "\n",
    "    for index, row in test_set.iterrows():\n",
    "        text = row['text']\n",
    "        label = row['sentiment']\n",
    "        vader_output = run_vader(text, lemmatize=lemmatize, parts_of_speech=parts_of_speech)\n",
    "        vader_predictions.append(vader_output_to_label(vader_output))\n",
    "        gold_labels.append(label)\n",
    "        texts.append(text)\n",
    "    \n",
    "    return gold_labels, vader_predictions"
   ]
  },
  {
   "cell_type": "code",
   "execution_count": null,
   "metadata": {},
   "outputs": [],
   "source": [
    "#evaluation\n",
    "gold_labels, vader_predictions = test_vader(test_df, lemmatize=True, parts_of_speech={'VERB', 'ADJ', 'ADV'})\n",
    "print(classification_report(gold_labels, vader_predictions))"
   ]
  },
  {
   "cell_type": "code",
   "execution_count": null,
   "metadata": {},
   "outputs": [],
   "source": [
    "train_data = pd.read_csv('data/Kaggle/sentiment-emotion-labelled_Dell_tweets.csv', delimiter=',')\n",
    "train_data = train_data[['Text', 'sentiment']]\n",
    "\n",
    "#replace Text by text\n",
    "train_data.columns = ['text', 'sentiment']\n",
    "\n",
    "#remove nan values\n",
    "train_data = train_data.dropna()\n",
    "\n",
    "#reshape test set\n",
    "test_df.head()\n",
    "test_df = test_df[['text', 'sentiment']]\n",
    "\n",
    "#add test set at the end of training set\n",
    "all_data = pd.concat([train_data, test_df], ignore_index=True)\n"
   ]
  },
  {
   "cell_type": "code",
   "execution_count": null,
   "metadata": {},
   "outputs": [],
   "source": [
    "#append the text to the corresponding sentiment\n",
    "train_dict = {'text': [], 'sentiment': []}\n",
    "\n",
    "for index, row in all_data.iterrows():\n",
    "    train_dict['text'].append(str(nlp(row['text'])))\n",
    "    train_dict['sentiment'].append(row['sentiment'])"
   ]
  },
  {
   "cell_type": "code",
   "execution_count": null,
   "metadata": {},
   "outputs": [],
   "source": [
    "# We use a Naive Bayes classifier, and fit it to our data\n",
    "\n",
    "count_vect = CountVectorizer(min_df=1,\n",
    "                            tokenizer=nltk.word_tokenize, # use the nltk tokenizer\n",
    "                            stop_words=stopwords.words('english')) # remove stopwords\n",
    "\n",
    "X_counts = count_vect.fit_transform(train_dict['text'])\n",
    "\n",
    "train_tfidf_transformer = TfidfTransformer()\n",
    "X_train_tfidf = train_tfidf_transformer.fit_transform(X_counts)\n",
    "\n",
    "\n",
    "X_train, X_test, y_train, y_test = train_test_split(X_train_tfidf, train_dict['sentiment'], test_size=10, shuffle=False)\n",
    "\n",
    "clf = MultinomialNB().fit(X_train, y_train)\n",
    "y_pred = clf.predict(X_test)"
   ]
  },
  {
   "cell_type": "code",
   "execution_count": null,
   "metadata": {},
   "outputs": [],
   "source": [
    "# Performance analysis\n",
    "print(classification_report(y_test, y_pred))\n",
    "\n",
    "\n",
    "confusion_matrix = confusion_matrix(y_test, y_pred)\n",
    "diplay = ConfusionMatrixDisplay(confusion_matrix=confusion_matrix,\n",
    "                               display_labels=clf.classes_)\n",
    "diplay.plot()\n",
    "plt.show()"
   ]
  },
  {
   "cell_type": "code",
   "execution_count": null,
   "metadata": {},
   "outputs": [],
   "source": [
    "#distribution training data\n",
    "\n",
    "fig = plt.figure(figsize=(10, 7))\n",
    "plt.pie(clf.class_count_, labels=clf.classes_, autopct='%.0f%%')\n",
    "\n",
    "plt.show()"
   ]
  },
  {
   "cell_type": "code",
   "execution_count": null,
   "metadata": {},
   "outputs": [],
   "source": [
    "#distribution test data\n",
    "\n",
    "data_t = []\n",
    "for sent in clf.classes_:\n",
    "    data_t.append(len([i for i in y_test if i==sent]))\n",
    "\n",
    "fig = plt.figure(figsize=(10, 7))\n",
    "plt.pie(data_t, labels=clf.classes_, autopct='%.0f%%')\n",
    "\n",
    "plt.show()"
   ]
  },
  {
   "cell_type": "code",
   "execution_count": null,
   "metadata": {},
   "outputs": [],
   "source": [
    "plt.pie(clf.class_count_, labels=clf.classes_, autopct='%.0f%%', startangle=90, pctdistance =0.88, radius= 1.0,) #outer circle train\n",
    "plt.pie(data_t, autopct='%.0f%%',startangle=90, pctdistance =0.85, radius= 0.60) #inner circle test\n",
    "\n",
    "centre_circle = plt.Circle((0,0), 0.25, fc='white')\n",
    "fig= plt.gcf()\n",
    "fig.gca().add_artist(centre_circle) \n",
    "\n",
    "# Plotting the pie \n",
    "plt.axis('equal')\n",
    "plt.show()"
   ]
  },
  {
   "cell_type": "markdown",
   "metadata": {},
   "source": [
    "## 3. Topic modelling\n",
    "For topic modelling we used the bert classification model, trained on a supervised training dataset"
   ]
  },
  {
   "cell_type": "markdown",
   "metadata": {},
   "source": [
    "Reasoning for using supervised model:\n",
    "- Since we know exactly how many topics there are and what they are, the disadvantage of new topics not being detected is less of a problem (lecture 6, slide 16). Furthermore, this allows us to exactly set the right amount of topics for the model. Lastly, supervised models allow for easily interpretable results and often yield a high performance.\n",
    "\n",
    "Reasoning for using BERT:\n",
    "- The group was most familiar with model, having used it before.\n",
    "- Very 'general' model with a lot of options that forms the basis for a lot of other models (lecture 3, slide 64)\n",
    "- We did manual hyperparameter selection, and found that, from the parameters used, the ones listed above as the final values performed best. It is very possible that there is better configurations however."
   ]
  },
  {
   "cell_type": "code",
   "execution_count": null,
   "metadata": {},
   "outputs": [],
   "source": [
    "from simpletransformers.classification import ClassificationModel, ClassificationArgs"
   ]
  },
  {
   "cell_type": "code",
   "execution_count": null,
   "metadata": {},
   "outputs": [],
   "source": [
    "#Read data\n",
    "train_topic_data = pd.read_csv('data/own_dataset.tsv', sep='\\t')\n",
    "test_topic_data = pd.read_csv('data/sentiment-topic-test.tsv', sep='\\t')\n",
    "\n",
    "#remove sentiment column and sentence id column\n",
    "train_topic_data = train_topic_data.drop(columns=['sentiment'])\n",
    "train_topic_data = train_topic_data.drop(columns=['sentence id'])\n",
    "test_topic_data = test_topic_data.drop(columns=['sentiment'])\n",
    "test_topic_data = test_topic_data.drop(columns=['sentence id'])\n",
    "\n",
    "#change each value in topic to an integer\n",
    "train_topic_data['topic'] = train_topic_data['topic'].astype('category')\n",
    "train_topic_data['topic'] = train_topic_data['topic'].cat.codes\n",
    "test_topic_data['topic'] = test_topic_data['topic'].astype('category')\n",
    "test_topic_data['topic'] = test_topic_data['topic'].cat.codes\n",
    "\n",
    "#change topic header to labels\n",
    "train_topic_data = train_topic_data.rename(columns={\"topic\": \"labels\"})\n",
    "test_topic_data = test_topic_data.rename(columns={\"topic\": \"labels\"})"
   ]
  },
  {
   "cell_type": "code",
   "execution_count": null,
   "metadata": {},
   "outputs": [],
   "source": [
    "all_data = pd.concat([train_topic_data, test_topic_data])\n",
    "\n",
    "train, test = train_test_split(train_topic_data, test_size=10, shuffle=False)\n",
    "train, dev = train_test_split(train, test_size=0.3, shuffle=True)"
   ]
  },
  {
   "cell_type": "code",
   "execution_count": null,
   "metadata": {},
   "outputs": [],
   "source": [
    "model_args = ClassificationArgs()\n",
    "\n",
    "model_args.overwrite_output_dir=True # overwrite existing saved models in same directory\n",
    "model_args.evaluate_during_training=True # perform evaluation while training the model\n",
    "# (eval data should be passed to the training method)\n",
    "\n",
    "model_args.num_train_epochs=15\n",
    "model_args.train_batch_size=64\n",
    "model_args.learning_rate=4e-5\n",
    "model_args.max_seq_length=256\n",
    "# Note! Increasing max_seq_len may provide better performance, but training time will increase. \n",
    "# For educational purposes, we set max_seq_len to 256.\n",
    "\n",
    "# Early stopping to combat overfitting: https://simpletransformers.ai/docs/tips-and-tricks/#using-early-stopping\n",
    "model_args.use_early_stopping=True\n",
    "model_args.early_stopping_delta=0.01 # \"The improvement over best_eval_loss necessary to count as a better checkpoint\"\n",
    "model_args.early_stopping_metric='eval_loss'\n",
    "model_args.early_stopping_metric_minimize=True\n",
    "model_args.early_stopping_patience=2\n",
    "model_args.evaluate_during_training_steps=32 # how often you want to run validation in terms of training steps (or batches)"
   ]
  },
  {
   "cell_type": "code",
   "execution_count": null,
   "metadata": {},
   "outputs": [],
   "source": [
    "bert_model = ClassificationModel('bert', 'bert-base-cased', num_labels=3, args=model_args, use_cuda=True)\n",
    "_, history = bert_model.train_model(train, eval_df=dev, multi_label=False) "
   ]
  },
  {
   "cell_type": "code",
   "execution_count": null,
   "metadata": {},
   "outputs": [],
   "source": [
    "def evaluate_model(model: ClassificationModel, dev: pd.DataFrame, test:pd.DataFrame):\n",
    "    result, outputs, wrong_pred = model.eval_model(dev)\n",
    "    \n",
    "    predicted, probabilities = model.predict(test.text.to_list())\n",
    "    test['predicted'] = predicted\n",
    "    \n",
    "    print(classification_report(test['labels'], test['predicted']))\n",
    "\n",
    "evaluate_model(bert_model, dev, test)"
   ]
  }
 ],
 "metadata": {
  "kernelspec": {
   "display_name": "Python 3",
   "language": "python",
   "name": "python3"
  },
  "language_info": {
   "codemirror_mode": {
    "name": "ipython",
    "version": 3
   },
   "file_extension": ".py",
   "mimetype": "text/x-python",
   "name": "python",
   "nbconvert_exporter": "python",
   "pygments_lexer": "ipython3",
   "version": "3.11.0"
  }
 },
 "nbformat": 4,
 "nbformat_minor": 2
}
